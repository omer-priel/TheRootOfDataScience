{
 "cells": [
  {
   "cell_type": "code",
   "execution_count": 7,
   "metadata": {},
   "outputs": [],
   "source": [
    "## to test data manipulations before preprocess\n",
    "# Data\n",
    "import numpy as np\n",
    "import pandas as pd\n",
    "\n",
    "# View\n",
    "import matplotlib.pyplot as plt\n",
    "import seaborn as sns  \n",
    "import ast"
   ]
  },
  {
   "cell_type": "code",
   "execution_count": 8,
   "metadata": {},
   "outputs": [],
   "source": [
    "df = pd.read_csv('../data/businessestmp.csv', index_col='id')\n",
    "df1=df.copy()"
   ]
  },
  {
   "cell_type": "code",
   "execution_count": 9,
   "metadata": {},
   "outputs": [],
   "source": [
    "categories = df1[\"SubCategories\"].unique()"
   ]
  },
  {
   "cell_type": "code",
   "execution_count": 10,
   "metadata": {},
   "outputs": [],
   "source": [
    "tmp = []\n",
    "for i in range(len(categories)):\n",
    "    string = categories[i].replace(\"[\",\"\")\n",
    "    string = string.replace(\"]\",\"\")\n",
    "    string = string.replace(\"'\",\"\")\n",
    "    tmp = tmp + string.split(\",\")\n",
    "tmp = np.array(tmp)"
   ]
  },
  {
   "cell_type": "code",
   "execution_count": 11,
   "metadata": {},
   "outputs": [
    {
     "data": {
      "text/plain": [
       "array(['', ' Acai Bowls', ' Afghan', ' African', ' Alsatian',\n",
       "       ' American (New)', ' American (Traditional)', ' Andalusian',\n",
       "       ' Animal Shelters', ' Antiques', ' Arabic', ' Arcades',\n",
       "       ' Argentine', ' Armenian', ' Arroceria / Paella', ' Art Galleries',\n",
       "       ' Arts & Entertainment', ' Asian Fusion', ' Asturian',\n",
       "       ' Australian', ' Austrian', ' Axe Throwing', ' Baden', ' Bagels',\n",
       "       ' Baguettes', ' Bakeries', ' Bangladeshi', ' Bar Crawl',\n",
       "       ' Barbeque', ' Bars', ' Basque', ' Batting Cages', ' Bavarian',\n",
       "       ' Beach Equipment Rentals', ' Beer', ' Beer Bar', ' Beer Garden',\n",
       "       ' Beer Gardens', ' Beer Hall', ' Belgian', ' Beverage Store',\n",
       "       ' Bike Rentals', ' Bike Repair/Maintenance', ' Bikes', ' Bistros',\n",
       "       ' Boat Charters', ' Boating', ' Bocce Ball', ' Bookstores',\n",
       "       ' Bowling', ' Brasseries', ' Brazilian', ' Brazilian Empanadas',\n",
       "       ' Breakfast & Brunch', ' Breweries', ' Brewpubs', ' British',\n",
       "       ' Bubble Tea', ' Buffets', ' Bulgarian', ' Burgers', ' Burmese',\n",
       "       ' Butcher', ' Cafes', ' Cafeteria', ' Cajun/Creole', ' Cambodian',\n",
       "       ' Campgrounds', ' Canadian (New)', ' Candy Stores', ' Cantonese',\n",
       "       ' Caribbean', ' Casinos', ' Catalan', ' Caterers',\n",
       "       ' Central Brazilian', ' Champagne Bars', ' Cheese Shops',\n",
       "       ' Cheesesteaks', ' Chicken Shop', ' Chicken Wings', ' Chilean',\n",
       "       ' Chimney Cakes', ' Chinese', ' Chocolatiers & Shops', ' Churros',\n",
       "       ' Cideries', ' Cigar Bars', ' Cinema', ' Cocktail Bars',\n",
       "       ' Coffee & Tea', ' Coffee Roasteries', ' Colleges & Universities',\n",
       "       ' Colombian', ' Comfort Food', ' Convenience Stores',\n",
       "       ' Conveyor Belt Sushi', ' Cooking Classes', ' Cooking Schools',\n",
       "       ' Cosmetics & Beauty Supply', ' Creperies', ' Cuban',\n",
       "       ' Cucina campana', ' Cupcakes', ' Curry Sausage', ' Custom Cakes',\n",
       "       ' Czech', ' DJs', ' Dance Clubs', ' Danish', ' Day Spas',\n",
       "       ' Delicatessen', ' Delis', ' Desserts', ' Dim Sum', ' Diners',\n",
       "       ' Dinner Theater', ' Distilleries', ' Dive Bars',\n",
       "       ' Do-It-Yourself Food', ' Dominican', ' Donairs', ' Donuts',\n",
       "       ' Drugstores', ' Dumplings', ' Eastern European', ' Eatertainment',\n",
       "       ' Education', ' Egyptian', ' Empanadas', ' Eritrean',\n",
       "       ' Escape Games', ' Ethiopian', ' Falafel', ' Farmers Market',\n",
       "       ' Farms', ' Fast Food', ' Filipino', ' Fischbroetchen',\n",
       "       ' Fish & Chips', ' Fishmonger', ' Flatbread', ' Flea Markets',\n",
       "       ' Florists', ' Fondue', ' Food', ' Food Court',\n",
       "       ' Food Delivery Services', ' Food Stands', ' Food Trucks',\n",
       "       ' French', ' Friterie', ' Fruits & Veggies', ' Galician',\n",
       "       ' Game Meat', ' Gas Stations', ' Gastropubs', ' Gay Bars',\n",
       "       ' Gelato', ' Georgian', ' German', ' Gift Shops', ' Gluten-Free',\n",
       "       ' Golf', ' Greek', ' Grocery', ' Guamanian', ' Guest Houses',\n",
       "       ' Gyms', ' Hainan', ' Hair Stylists', ' Haitian', ' Hakka',\n",
       "       ' Halal', ' Hawaiian', ' Health Markets', ' Hessian',\n",
       "       ' Himalayan/Nepalese', ' Hobby Shops', ' Home Decor', ' Honduran',\n",
       "       ' Hong Kong Style Cafe', ' Hookah Bars', ' Hostels', ' Hot Dogs',\n",
       "       ' Hot Pot', ' Hotel bar', ' Hotels', ' Hungarian', ' Iberian',\n",
       "       ' Ice Cream & Frozen Yogurt', ' Imported Food', ' Indian',\n",
       "       ' Indonesian', ' Indoor Playcentre', ' International',\n",
       "       ' International Grocery', ' Irish', ' Irish Pub', ' Israeli',\n",
       "       ' Italian', ' Izakaya', ' Japanese', ' Japanese Curry',\n",
       "       ' Jazz & Blues', ' Jewelry', ' Jewish', ' Juice Bars & Smoothies',\n",
       "       ' Karaoke', ' Kebab', ' Kitchen Incubators', ' Kombucha',\n",
       "       ' Kopitiam', ' Korean', ' Kosher',\n",
       "       ' Landmarks & Historical Buildings', ' Laotian', ' Latin American',\n",
       "       ' Laundry Services', ' Lebanese', ' Ligurian', ' Live/Raw Food',\n",
       "       ' Local Flavor', ' Lounges', ' Lyonnais', ' Macarons',\n",
       "       ' Malaysian', ' Massage Therapy', ' Meat Shops', ' Mediterranean',\n",
       "       ' Mexican', ' Middle Eastern', ' Milk Bars', ' Mini Golf',\n",
       "       ' Modern Australian', ' Modern European', ' Mongolian',\n",
       "       ' Moroccan', ' Motorcycle Rental', ' Mulled Wine', ' Music Venues',\n",
       "       ' Nasi Lemak', ' New Mexican Cuisine', ' New Zealand',\n",
       "       ' Nicaraguan', ' Nightlife', ' Nikkei', ' Noodles',\n",
       "       ' Northeastern Brazilian', ' Northern German', ' Olive Oil',\n",
       "       ' Open Sandwiches', ' Organic Stores', ' Oriental',\n",
       "       ' Outdoor Movies', ' Pakistani', ' Pan Asian', ' Pancakes',\n",
       "       ' Parks', ' Party & Event Planning', ' Pasta Shops',\n",
       "       ' Patisserie/Cake Shop', ' Performing Arts', ' Persian/Iranian',\n",
       "       ' Personal Chefs', ' Peruvian', ' Pet Stores', ' Piadina',\n",
       "       ' Piano Bars', ' Pierogis', ' Pizza', ' Poke', ' Polish',\n",
       "       ' Polynesian', ' Pool Halls', ' Pop-Up Restaurants',\n",
       "       ' Pop-up Shops', ' Portuguese', ' Poutineries', ' Pretzels',\n",
       "       ' Professional Services', ' Provencal', ' Pub Food',\n",
       "       ' Public Markets', ' Pubs', ' Puerto Rican', ' Ramen', ' Resorts',\n",
       "       ' Restaurants', ' Rhinelandian', ' Rodizios', ' Roman',\n",
       "       ' Rotisserie Chicken', ' Russian', ' Salad', ' Salumerie',\n",
       "       ' Salvadoran', ' Sandwiches', ' Sardinian', ' Saunas',\n",
       "       ' Scandinavian', ' Schnitzel', ' Scottish', ' Seafood',\n",
       "       ' Seafood Markets', ' Serbo Croatian', ' Shanghainese',\n",
       "       ' Shaved Ice', ' Sicilian', ' Signature Cuisine', ' Singaporean',\n",
       "       ' Skin Care', ' Slovakian', ' Smokehouse', ' Social Clubs',\n",
       "       ' Somali', ' Soul Food', ' Soup', ' South African', ' Southern',\n",
       "       ' Spanish', ' Speakeasies', ' Specialty Food', ' Spiritual Shop',\n",
       "       ' Sports Bars', ' Sri Lankan', ' Steakhouses', ' Street Vendors',\n",
       "       ' Supper Clubs', ' Sushi Bars', ' Swabian', ' Swedish',\n",
       "       ' Swiss Food', ' Syrian', ' Szechuan', ' Tabac', ' Tabernas',\n",
       "       ' Tablao Flamenco', ' Tabletop Games', ' Tacos', ' Taiwanese',\n",
       "       ' Tapas Bars', ' Tapas/Small Plates', ' Tavola Calda',\n",
       "       ' Tea Rooms', ' Team Building Activities', ' Teochew',\n",
       "       ' Teppanyaki', ' Tex-Mex', ' Thai', ' Themed Cafes', ' Tiki Bars',\n",
       "       ' Traditional Swedish', ' Trattorie', ' Turkish', ' Ukrainian',\n",
       "       ' Uzbek', ' Vegan', ' Vegetarian', ' Venetian', ' Venezuelan',\n",
       "       ' Venues & Event Spaces', ' Vermouth Bars', ' Vietnamese',\n",
       "       ' Vinyl Records', ' Waffles', ' Wedding Planning', ' Whiskey Bars',\n",
       "       ' Wine & Spirits', ' Wine Bars', ' Wine Tasting Room',\n",
       "       ' Wine Tours', ' Wineries', ' Wok', ' Wraps', ' Yoga',\n",
       "       'Acai Bowls', 'Afghan', 'African', 'American (New)',\n",
       "       'American (Traditional)', 'Arabic', 'Arcades', 'Argentine',\n",
       "       'Armenian', 'Arroceria / Paella', 'Art Galleries',\n",
       "       'Arts & Entertainment', 'Asian Fusion', 'Australian', 'Austrian',\n",
       "       'Auvergnat', 'Axe Throwing', 'Bagels', 'Bakeries', 'Barbeque',\n",
       "       'Bars', 'Basque', 'Bavarian', 'Beer', 'Beer Bar', 'Beer Garden',\n",
       "       'Beer Gardens', 'Belgian', 'Beverage Store', 'Bistros',\n",
       "       'Boat Tours', 'Bocce Ball', 'Bookstores', 'Bowling', 'Brasseries',\n",
       "       'Brazilian', 'Breakfast & Brunch', 'Breweries', 'Brewpubs',\n",
       "       'British', 'Bubble Tea', 'Buffets', 'Bulgarian', 'Burgers',\n",
       "       'Burmese', 'Butcher', 'Cafes', 'Cafeteria', 'Cajun/Creole',\n",
       "       'Calabrian', 'Cambodian', 'Canadian (New)', 'Candy Stores',\n",
       "       'Canteen', 'Cantonese', 'Caribbean', 'Casinos', 'Catalan',\n",
       "       'Caterers', 'Champagne Bars', 'Cheese Shops', 'Cheesesteaks',\n",
       "       'Chicken Shop', 'Chicken Wings', 'Chilean', 'Chinese',\n",
       "       'Chocolatiers & Shops', 'Churros', 'Cideries', 'Cocktail Bars',\n",
       "       'Coffee & Tea', 'Coffee Roasteries', 'Colleges & Universities',\n",
       "       'Colombian', 'Comedy Clubs', 'Comfort Food',\n",
       "       'Community Service/Non-Profit', 'Convenience Stores',\n",
       "       'Conveyor Belt Sushi', 'Cooking Classes', 'Cooking Schools',\n",
       "       'Corsican', 'Country Dance Halls', 'Creperies', 'Cuban',\n",
       "       'Cultural Center', 'Cupcakes', 'Curry Sausage', 'Czech',\n",
       "       'Dance Clubs', 'Danish', 'Day Spas', 'Delicatessen', 'Delis',\n",
       "       'Desserts', 'Dim Sum', 'Diners', 'Dinner Theater', 'Distilleries',\n",
       "       'Dive Bars', 'Do-It-Yourself Food', 'Dominican', 'Donairs',\n",
       "       'Donuts', 'Dumplings', 'Eastern German', 'Eatertainment',\n",
       "       'Egyptian', 'Empanadas', 'Eritrean', 'Ethiopian',\n",
       "       'Event Planning & Services', 'Falafel', 'Farmers Market',\n",
       "       'Fast Food', 'Festivals', 'Filipino', 'Financial Services',\n",
       "       'Fish & Chips', 'Fishmonger', 'Flea Markets', 'Florists',\n",
       "       'Flowers & Gifts', 'Fondue', 'Food', 'Food Court',\n",
       "       'Food Delivery Services', 'Food Stands', 'Food Trucks', 'French',\n",
       "       'French Southwest', 'Friterie', 'Fruits & Veggies', 'Galician',\n",
       "       'Gas Stations', 'Gastropubs', 'Gay Bars', 'Gelato',\n",
       "       'General Festivals', 'Georgian', 'German', 'Gift Shops',\n",
       "       'Gluten-Free', 'Golf', 'Greek', 'Grocery', 'Hainan', 'Haitian',\n",
       "       'Halal', 'Hawaiian', 'Hawker Centre', 'Health Markets', 'Hessian',\n",
       "       'Himalayan/Nepalese', 'Home Decor', 'Honduran',\n",
       "       'Hong Kong Style Cafe', 'Hookah Bars', 'Hostels', 'Hot Dogs',\n",
       "       'Hot Pot', 'Hotel bar', 'Hotels', 'Hotels & Travel', 'Hungarian',\n",
       "       'Iberian', 'Ice Cream & Frozen Yogurt', 'Indian', 'Indonesian',\n",
       "       'International', 'International Grocery', 'Internet Cafes',\n",
       "       'Irish', 'Irish Pub', 'Israeli', 'Italian', 'Izakaya', 'Japanese',\n",
       "       'Japanese Curry', 'Jazz & Blues', 'Jewish',\n",
       "       'Juice Bars & Smoothies', 'Karaoke', 'Kebab', 'Kombucha', 'Korean',\n",
       "       'Kosher', 'Landmarks & Historical Buildings', 'Laotian',\n",
       "       'Latin American', 'Lebanese', 'Live/Raw Food', 'Local Flavor',\n",
       "       'Lounges', 'Lyonnais', 'Magicians', 'Malaysian', 'Mamak',\n",
       "       'Meat Shops', 'Mediterranean', 'Mexican', 'Middle Eastern',\n",
       "       'Milk Bars', 'Modern Australian', 'Modern European', 'Mongolian',\n",
       "       'Moroccan', 'Motorcycle Repair', 'Music Venues', 'Nasi Lemak',\n",
       "       'New Mexican Cuisine', 'New Zealand', 'Newspapers & Magazines',\n",
       "       'Nicaraguan', 'Nightlife', 'Nikkei', 'Noodles',\n",
       "       'Northeastern Brazilian', 'Northern Brazilian', 'Northern German',\n",
       "       'Nyonya', 'Open Sandwiches', 'Organic Stores', 'Oriental',\n",
       "       'Pakistani', 'Palatine', 'Pan Asian', 'Pancakes', 'Parma',\n",
       "       'Pasta Shops', 'Patisserie/Cake Shop', 'Performing Arts',\n",
       "       'Persian/Iranian', 'Personal Chefs', 'Peruvian', 'Pet Adoption',\n",
       "       'Pharmacy', 'Pierogis', 'Pizza', 'Poke', 'Polish', 'Polynesian',\n",
       "       'Pool Halls', 'Pop-Up Restaurants', 'Popcorn Shops', 'Portuguese',\n",
       "       'Poutineries', 'Pretzels', 'Provencal', 'Pub Food',\n",
       "       'Public Markets', 'Pubs', 'Puerto Rican', 'Rafting/Kayaking',\n",
       "       'Ramen', 'Restaurants', 'Rhinelandian', 'Rock Climbing',\n",
       "       'Romanian', 'Rotisserie Chicken', 'Russian', 'Salad', 'Salvadoran',\n",
       "       'Sandwiches', 'Sardinian', 'Scandinavian', 'Scavenger Hunts',\n",
       "       'Schnitzel', 'Scottish', 'Seafood', 'Seafood Markets',\n",
       "       'Senegalese', 'Serbo Croatian', 'Shanghainese', 'Shaved Ice',\n",
       "       'Shaved Snow', 'Shopping Centers', 'Sicilian', 'Signature Cuisine',\n",
       "       'Singaporean', 'Smokehouse', 'Social Clubs', 'Somali', 'Soul Food',\n",
       "       'Soup', 'South African', 'Southern', 'Spanish', 'Speakeasies',\n",
       "       'Specialty Food', 'Sports Bars', 'Sri Lankan', 'Stadiums & Arenas',\n",
       "       'Steakhouses', 'Street Vendors', 'Supper Clubs', 'Sushi Bars',\n",
       "       'Swabian', 'Swedish', 'Swiss Food', 'Syrian', 'Szechuan',\n",
       "       'Tabernas', 'Tablao Flamenco', 'Tabletop Games', 'Tacos',\n",
       "       'Taiwanese', 'Tapas Bars', 'Tapas/Small Plates', 'Tea Rooms',\n",
       "       'Teppanyaki', 'Tex-Mex', 'Thai', 'Themed Cafes', 'Tiki Bars',\n",
       "       'Tobacco Shops', 'Tours', 'Traditional Norwegian',\n",
       "       'Traditional Swedish', 'Trattorie', 'Trinidadian', 'Turkish',\n",
       "       'Tuscan', 'Ukrainian', 'Used Bookstore', 'Uzbek', 'Vegan',\n",
       "       'Vegetarian', 'Venetian', 'Venezuelan', 'Venues & Event Spaces',\n",
       "       'Vietnamese', 'Waffles', 'Whiskey Bars', 'Wine Bars',\n",
       "       'Wine Tasting Room', 'Wineries', 'Wok', 'Wraps', 'Yelp Events',\n",
       "       'Yoga'], dtype='<U33')"
      ]
     },
     "execution_count": 11,
     "metadata": {},
     "output_type": "execute_result"
    }
   ],
   "source": [
    "tmp = np.unique(tmp)\n",
    "uniquecat =tmp\n",
    "uniquecat"
   ]
  },
  {
   "cell_type": "code",
   "execution_count": 14,
   "metadata": {},
   "outputs": [
    {
     "data": {
      "text/plain": [
       "['Restaurants', 'Coffee & Tea']"
      ]
     },
     "execution_count": 14,
     "metadata": {},
     "output_type": "execute_result"
    }
   ],
   "source": [
    "df['SubCategories'][5]"
   ]
  },
  {
   "cell_type": "code",
   "execution_count": 16,
   "metadata": {},
   "outputs": [],
   "source": [
    "df=df.reset_index()"
   ]
  },
  {
   "cell_type": "code",
   "execution_count": 85,
   "metadata": {},
   "outputs": [],
   "source": [
    "# TODO: create uniqCateg\n",
    "df['SubCategories'] = df['SubCategories'].astype(object)"
   ]
  },
  {
   "cell_type": "code",
   "execution_count": 6,
   "metadata": {},
   "outputs": [
    {
     "ename": "KeyError",
     "evalue": "1288",
     "output_type": "error",
     "traceback": [
      "\u001b[1;31m---------------------------------------------------------------------------\u001b[0m",
      "\u001b[1;31mKeyError\u001b[0m                                  Traceback (most recent call last)",
      "\u001b[1;32m~\\anaconda3\\lib\\site-packages\\pandas\\core\\indexes\\base.py\u001b[0m in \u001b[0;36mget_loc\u001b[1;34m(self, key, method, tolerance)\u001b[0m\n\u001b[0;32m   3360\u001b[0m             \u001b[1;32mtry\u001b[0m\u001b[1;33m:\u001b[0m\u001b[1;33m\u001b[0m\u001b[1;33m\u001b[0m\u001b[0m\n\u001b[1;32m-> 3361\u001b[1;33m                 \u001b[1;32mreturn\u001b[0m \u001b[0mself\u001b[0m\u001b[1;33m.\u001b[0m\u001b[0m_engine\u001b[0m\u001b[1;33m.\u001b[0m\u001b[0mget_loc\u001b[0m\u001b[1;33m(\u001b[0m\u001b[0mcasted_key\u001b[0m\u001b[1;33m)\u001b[0m\u001b[1;33m\u001b[0m\u001b[1;33m\u001b[0m\u001b[0m\n\u001b[0m\u001b[0;32m   3362\u001b[0m             \u001b[1;32mexcept\u001b[0m \u001b[0mKeyError\u001b[0m \u001b[1;32mas\u001b[0m \u001b[0merr\u001b[0m\u001b[1;33m:\u001b[0m\u001b[1;33m\u001b[0m\u001b[1;33m\u001b[0m\u001b[0m\n",
      "\u001b[1;32m~\\anaconda3\\lib\\site-packages\\pandas\\_libs\\index.pyx\u001b[0m in \u001b[0;36mpandas._libs.index.IndexEngine.get_loc\u001b[1;34m()\u001b[0m\n",
      "\u001b[1;32m~\\anaconda3\\lib\\site-packages\\pandas\\_libs\\index.pyx\u001b[0m in \u001b[0;36mpandas._libs.index.IndexEngine.get_loc\u001b[1;34m()\u001b[0m\n",
      "\u001b[1;32mpandas\\_libs\\hashtable_class_helper.pxi\u001b[0m in \u001b[0;36mpandas._libs.hashtable.Int64HashTable.get_item\u001b[1;34m()\u001b[0m\n",
      "\u001b[1;32mpandas\\_libs\\hashtable_class_helper.pxi\u001b[0m in \u001b[0;36mpandas._libs.hashtable.Int64HashTable.get_item\u001b[1;34m()\u001b[0m\n",
      "\u001b[1;31mKeyError\u001b[0m: 1288",
      "\nThe above exception was the direct cause of the following exception:\n",
      "\u001b[1;31mKeyError\u001b[0m                                  Traceback (most recent call last)",
      "\u001b[1;32m~\\AppData\\Local\\Temp/ipykernel_9448/970247615.py\u001b[0m in \u001b[0;36m<module>\u001b[1;34m\u001b[0m\n\u001b[0;32m      1\u001b[0m \u001b[1;32mfor\u001b[0m \u001b[0mi\u001b[0m \u001b[1;32min\u001b[0m \u001b[0mrange\u001b[0m\u001b[1;33m(\u001b[0m\u001b[0mlen\u001b[0m\u001b[1;33m(\u001b[0m\u001b[0mdf\u001b[0m\u001b[1;33m[\u001b[0m\u001b[1;34m'SubCategories'\u001b[0m\u001b[1;33m]\u001b[0m\u001b[1;33m)\u001b[0m\u001b[1;33m)\u001b[0m\u001b[1;33m:\u001b[0m\u001b[1;33m\u001b[0m\u001b[1;33m\u001b[0m\u001b[0m\n\u001b[1;32m----> 2\u001b[1;33m         \u001b[0mstring\u001b[0m\u001b[1;33m=\u001b[0m \u001b[0mdf\u001b[0m\u001b[1;33m[\u001b[0m\u001b[1;34m'SubCategories'\u001b[0m\u001b[1;33m]\u001b[0m\u001b[1;33m[\u001b[0m\u001b[0mi\u001b[0m\u001b[1;33m]\u001b[0m\u001b[1;33m.\u001b[0m\u001b[0mreplace\u001b[0m\u001b[1;33m(\u001b[0m\u001b[1;34m\"\\'\"\u001b[0m\u001b[1;33m,\u001b[0m\u001b[1;34m\"\\\"\"\u001b[0m\u001b[1;33m)\u001b[0m\u001b[1;33m\u001b[0m\u001b[1;33m\u001b[0m\u001b[0m\n\u001b[0m\u001b[0;32m      3\u001b[0m         \u001b[0mdf\u001b[0m\u001b[1;33m.\u001b[0m\u001b[0mat\u001b[0m\u001b[1;33m[\u001b[0m\u001b[0mi\u001b[0m\u001b[1;33m,\u001b[0m\u001b[1;34m'SubCategories'\u001b[0m\u001b[1;33m]\u001b[0m\u001b[1;33m=\u001b[0m \u001b[0mast\u001b[0m\u001b[1;33m.\u001b[0m\u001b[0mliteral_eval\u001b[0m\u001b[1;33m(\u001b[0m\u001b[0mstring\u001b[0m\u001b[1;33m)\u001b[0m\u001b[1;33m\u001b[0m\u001b[1;33m\u001b[0m\u001b[0m\n\u001b[0;32m      4\u001b[0m \u001b[0mdf\u001b[0m\u001b[1;33m\u001b[0m\u001b[1;33m\u001b[0m\u001b[0m\n",
      "\u001b[1;32m~\\anaconda3\\lib\\site-packages\\pandas\\core\\series.py\u001b[0m in \u001b[0;36m__getitem__\u001b[1;34m(self, key)\u001b[0m\n\u001b[0;32m    940\u001b[0m \u001b[1;33m\u001b[0m\u001b[0m\n\u001b[0;32m    941\u001b[0m         \u001b[1;32melif\u001b[0m \u001b[0mkey_is_scalar\u001b[0m\u001b[1;33m:\u001b[0m\u001b[1;33m\u001b[0m\u001b[1;33m\u001b[0m\u001b[0m\n\u001b[1;32m--> 942\u001b[1;33m             \u001b[1;32mreturn\u001b[0m \u001b[0mself\u001b[0m\u001b[1;33m.\u001b[0m\u001b[0m_get_value\u001b[0m\u001b[1;33m(\u001b[0m\u001b[0mkey\u001b[0m\u001b[1;33m)\u001b[0m\u001b[1;33m\u001b[0m\u001b[1;33m\u001b[0m\u001b[0m\n\u001b[0m\u001b[0;32m    943\u001b[0m \u001b[1;33m\u001b[0m\u001b[0m\n\u001b[0;32m    944\u001b[0m         \u001b[1;32mif\u001b[0m \u001b[0mis_hashable\u001b[0m\u001b[1;33m(\u001b[0m\u001b[0mkey\u001b[0m\u001b[1;33m)\u001b[0m\u001b[1;33m:\u001b[0m\u001b[1;33m\u001b[0m\u001b[1;33m\u001b[0m\u001b[0m\n",
      "\u001b[1;32m~\\anaconda3\\lib\\site-packages\\pandas\\core\\series.py\u001b[0m in \u001b[0;36m_get_value\u001b[1;34m(self, label, takeable)\u001b[0m\n\u001b[0;32m   1049\u001b[0m \u001b[1;33m\u001b[0m\u001b[0m\n\u001b[0;32m   1050\u001b[0m         \u001b[1;31m# Similar to Index.get_value, but we do not fall back to positional\u001b[0m\u001b[1;33m\u001b[0m\u001b[1;33m\u001b[0m\u001b[0m\n\u001b[1;32m-> 1051\u001b[1;33m         \u001b[0mloc\u001b[0m \u001b[1;33m=\u001b[0m \u001b[0mself\u001b[0m\u001b[1;33m.\u001b[0m\u001b[0mindex\u001b[0m\u001b[1;33m.\u001b[0m\u001b[0mget_loc\u001b[0m\u001b[1;33m(\u001b[0m\u001b[0mlabel\u001b[0m\u001b[1;33m)\u001b[0m\u001b[1;33m\u001b[0m\u001b[1;33m\u001b[0m\u001b[0m\n\u001b[0m\u001b[0;32m   1052\u001b[0m         \u001b[1;32mreturn\u001b[0m \u001b[0mself\u001b[0m\u001b[1;33m.\u001b[0m\u001b[0mindex\u001b[0m\u001b[1;33m.\u001b[0m\u001b[0m_get_values_for_loc\u001b[0m\u001b[1;33m(\u001b[0m\u001b[0mself\u001b[0m\u001b[1;33m,\u001b[0m \u001b[0mloc\u001b[0m\u001b[1;33m,\u001b[0m \u001b[0mlabel\u001b[0m\u001b[1;33m)\u001b[0m\u001b[1;33m\u001b[0m\u001b[1;33m\u001b[0m\u001b[0m\n\u001b[0;32m   1053\u001b[0m \u001b[1;33m\u001b[0m\u001b[0m\n",
      "\u001b[1;32m~\\anaconda3\\lib\\site-packages\\pandas\\core\\indexes\\base.py\u001b[0m in \u001b[0;36mget_loc\u001b[1;34m(self, key, method, tolerance)\u001b[0m\n\u001b[0;32m   3361\u001b[0m                 \u001b[1;32mreturn\u001b[0m \u001b[0mself\u001b[0m\u001b[1;33m.\u001b[0m\u001b[0m_engine\u001b[0m\u001b[1;33m.\u001b[0m\u001b[0mget_loc\u001b[0m\u001b[1;33m(\u001b[0m\u001b[0mcasted_key\u001b[0m\u001b[1;33m)\u001b[0m\u001b[1;33m\u001b[0m\u001b[1;33m\u001b[0m\u001b[0m\n\u001b[0;32m   3362\u001b[0m             \u001b[1;32mexcept\u001b[0m \u001b[0mKeyError\u001b[0m \u001b[1;32mas\u001b[0m \u001b[0merr\u001b[0m\u001b[1;33m:\u001b[0m\u001b[1;33m\u001b[0m\u001b[1;33m\u001b[0m\u001b[0m\n\u001b[1;32m-> 3363\u001b[1;33m                 \u001b[1;32mraise\u001b[0m \u001b[0mKeyError\u001b[0m\u001b[1;33m(\u001b[0m\u001b[0mkey\u001b[0m\u001b[1;33m)\u001b[0m \u001b[1;32mfrom\u001b[0m \u001b[0merr\u001b[0m\u001b[1;33m\u001b[0m\u001b[1;33m\u001b[0m\u001b[0m\n\u001b[0m\u001b[0;32m   3364\u001b[0m \u001b[1;33m\u001b[0m\u001b[0m\n\u001b[0;32m   3365\u001b[0m         \u001b[1;32mif\u001b[0m \u001b[0mis_scalar\u001b[0m\u001b[1;33m(\u001b[0m\u001b[0mkey\u001b[0m\u001b[1;33m)\u001b[0m \u001b[1;32mand\u001b[0m \u001b[0misna\u001b[0m\u001b[1;33m(\u001b[0m\u001b[0mkey\u001b[0m\u001b[1;33m)\u001b[0m \u001b[1;32mand\u001b[0m \u001b[1;32mnot\u001b[0m \u001b[0mself\u001b[0m\u001b[1;33m.\u001b[0m\u001b[0mhasnans\u001b[0m\u001b[1;33m:\u001b[0m\u001b[1;33m\u001b[0m\u001b[1;33m\u001b[0m\u001b[0m\n",
      "\u001b[1;31mKeyError\u001b[0m: 1288"
     ]
    }
   ],
   "source": [
    "for i in range(len(df['SubCategories'])):\n",
    "        string= df['SubCategories'][i].replace(\"\\'\",\"\\\"\")\n",
    "        df.at[i,'SubCategories']= ast.literal_eval(string)\n",
    "df"
   ]
  },
  {
   "cell_type": "code",
   "execution_count": 12,
   "metadata": {},
   "outputs": [
    {
     "name": "stderr",
     "output_type": "stream",
     "text": [
      "C:\\Users\\lior1\\AppData\\Local\\Temp/ipykernel_9448/2268189840.py:5: PerformanceWarning: DataFrame is highly fragmented.  This is usually the result of calling `frame.insert` many times, which has poor performance.  Consider joining all columns at once using pd.concat(axis=1) instead.  To get a de-fragmented frame, use `newframe = frame.copy()`\n",
      "  df[subcat]=vectfunc(df['SubCategories'],subcat)\n"
     ]
    }
   ],
   "source": [
    "def isinlist(lis,obj):\n",
    "    return obj in lis\n",
    "vectfunc= np.vectorize(isinlist)\n",
    "for subcat in uniquecat:\n",
    "    df[subcat]=vectfunc(df['SubCategories'],subcat)"
   ]
  },
  {
   "cell_type": "code",
   "execution_count": 22,
   "metadata": {},
   "outputs": [
    {
     "ename": "KeyError",
     "evalue": "\"[''] not found in axis\"",
     "output_type": "error",
     "traceback": [
      "\u001b[1;31m---------------------------------------------------------------------------\u001b[0m",
      "\u001b[1;31mKeyError\u001b[0m                                  Traceback (most recent call last)",
      "\u001b[1;32m~\\AppData\\Local\\Temp/ipykernel_9448/3509332274.py\u001b[0m in \u001b[0;36m<module>\u001b[1;34m\u001b[0m\n\u001b[1;32m----> 1\u001b[1;33m \u001b[0mdf\u001b[0m\u001b[1;33m.\u001b[0m\u001b[0mdrop\u001b[0m\u001b[1;33m(\u001b[0m\u001b[1;34m\"\"\u001b[0m\u001b[1;33m)\u001b[0m\u001b[1;33m\u001b[0m\u001b[1;33m\u001b[0m\u001b[0m\n\u001b[0m",
      "\u001b[1;32m~\\anaconda3\\lib\\site-packages\\pandas\\util\\_decorators.py\u001b[0m in \u001b[0;36mwrapper\u001b[1;34m(*args, **kwargs)\u001b[0m\n\u001b[0;32m    309\u001b[0m                     \u001b[0mstacklevel\u001b[0m\u001b[1;33m=\u001b[0m\u001b[0mstacklevel\u001b[0m\u001b[1;33m,\u001b[0m\u001b[1;33m\u001b[0m\u001b[1;33m\u001b[0m\u001b[0m\n\u001b[0;32m    310\u001b[0m                 )\n\u001b[1;32m--> 311\u001b[1;33m             \u001b[1;32mreturn\u001b[0m \u001b[0mfunc\u001b[0m\u001b[1;33m(\u001b[0m\u001b[1;33m*\u001b[0m\u001b[0margs\u001b[0m\u001b[1;33m,\u001b[0m \u001b[1;33m**\u001b[0m\u001b[0mkwargs\u001b[0m\u001b[1;33m)\u001b[0m\u001b[1;33m\u001b[0m\u001b[1;33m\u001b[0m\u001b[0m\n\u001b[0m\u001b[0;32m    312\u001b[0m \u001b[1;33m\u001b[0m\u001b[0m\n\u001b[0;32m    313\u001b[0m         \u001b[1;32mreturn\u001b[0m \u001b[0mwrapper\u001b[0m\u001b[1;33m\u001b[0m\u001b[1;33m\u001b[0m\u001b[0m\n",
      "\u001b[1;32m~\\anaconda3\\lib\\site-packages\\pandas\\core\\frame.py\u001b[0m in \u001b[0;36mdrop\u001b[1;34m(self, labels, axis, index, columns, level, inplace, errors)\u001b[0m\n\u001b[0;32m   4904\u001b[0m                 \u001b[0mweight\u001b[0m  \u001b[1;36m1.0\u001b[0m     \u001b[1;36m0.8\u001b[0m\u001b[1;33m\u001b[0m\u001b[1;33m\u001b[0m\u001b[0m\n\u001b[0;32m   4905\u001b[0m         \"\"\"\n\u001b[1;32m-> 4906\u001b[1;33m         return super().drop(\n\u001b[0m\u001b[0;32m   4907\u001b[0m             \u001b[0mlabels\u001b[0m\u001b[1;33m=\u001b[0m\u001b[0mlabels\u001b[0m\u001b[1;33m,\u001b[0m\u001b[1;33m\u001b[0m\u001b[1;33m\u001b[0m\u001b[0m\n\u001b[0;32m   4908\u001b[0m             \u001b[0maxis\u001b[0m\u001b[1;33m=\u001b[0m\u001b[0maxis\u001b[0m\u001b[1;33m,\u001b[0m\u001b[1;33m\u001b[0m\u001b[1;33m\u001b[0m\u001b[0m\n",
      "\u001b[1;32m~\\anaconda3\\lib\\site-packages\\pandas\\core\\generic.py\u001b[0m in \u001b[0;36mdrop\u001b[1;34m(self, labels, axis, index, columns, level, inplace, errors)\u001b[0m\n\u001b[0;32m   4148\u001b[0m         \u001b[1;32mfor\u001b[0m \u001b[0maxis\u001b[0m\u001b[1;33m,\u001b[0m \u001b[0mlabels\u001b[0m \u001b[1;32min\u001b[0m \u001b[0maxes\u001b[0m\u001b[1;33m.\u001b[0m\u001b[0mitems\u001b[0m\u001b[1;33m(\u001b[0m\u001b[1;33m)\u001b[0m\u001b[1;33m:\u001b[0m\u001b[1;33m\u001b[0m\u001b[1;33m\u001b[0m\u001b[0m\n\u001b[0;32m   4149\u001b[0m             \u001b[1;32mif\u001b[0m \u001b[0mlabels\u001b[0m \u001b[1;32mis\u001b[0m \u001b[1;32mnot\u001b[0m \u001b[1;32mNone\u001b[0m\u001b[1;33m:\u001b[0m\u001b[1;33m\u001b[0m\u001b[1;33m\u001b[0m\u001b[0m\n\u001b[1;32m-> 4150\u001b[1;33m                 \u001b[0mobj\u001b[0m \u001b[1;33m=\u001b[0m \u001b[0mobj\u001b[0m\u001b[1;33m.\u001b[0m\u001b[0m_drop_axis\u001b[0m\u001b[1;33m(\u001b[0m\u001b[0mlabels\u001b[0m\u001b[1;33m,\u001b[0m \u001b[0maxis\u001b[0m\u001b[1;33m,\u001b[0m \u001b[0mlevel\u001b[0m\u001b[1;33m=\u001b[0m\u001b[0mlevel\u001b[0m\u001b[1;33m,\u001b[0m \u001b[0merrors\u001b[0m\u001b[1;33m=\u001b[0m\u001b[0merrors\u001b[0m\u001b[1;33m)\u001b[0m\u001b[1;33m\u001b[0m\u001b[1;33m\u001b[0m\u001b[0m\n\u001b[0m\u001b[0;32m   4151\u001b[0m \u001b[1;33m\u001b[0m\u001b[0m\n\u001b[0;32m   4152\u001b[0m         \u001b[1;32mif\u001b[0m \u001b[0minplace\u001b[0m\u001b[1;33m:\u001b[0m\u001b[1;33m\u001b[0m\u001b[1;33m\u001b[0m\u001b[0m\n",
      "\u001b[1;32m~\\anaconda3\\lib\\site-packages\\pandas\\core\\generic.py\u001b[0m in \u001b[0;36m_drop_axis\u001b[1;34m(self, labels, axis, level, errors)\u001b[0m\n\u001b[0;32m   4183\u001b[0m                 \u001b[0mnew_axis\u001b[0m \u001b[1;33m=\u001b[0m \u001b[0maxis\u001b[0m\u001b[1;33m.\u001b[0m\u001b[0mdrop\u001b[0m\u001b[1;33m(\u001b[0m\u001b[0mlabels\u001b[0m\u001b[1;33m,\u001b[0m \u001b[0mlevel\u001b[0m\u001b[1;33m=\u001b[0m\u001b[0mlevel\u001b[0m\u001b[1;33m,\u001b[0m \u001b[0merrors\u001b[0m\u001b[1;33m=\u001b[0m\u001b[0merrors\u001b[0m\u001b[1;33m)\u001b[0m\u001b[1;33m\u001b[0m\u001b[1;33m\u001b[0m\u001b[0m\n\u001b[0;32m   4184\u001b[0m             \u001b[1;32melse\u001b[0m\u001b[1;33m:\u001b[0m\u001b[1;33m\u001b[0m\u001b[1;33m\u001b[0m\u001b[0m\n\u001b[1;32m-> 4185\u001b[1;33m                 \u001b[0mnew_axis\u001b[0m \u001b[1;33m=\u001b[0m \u001b[0maxis\u001b[0m\u001b[1;33m.\u001b[0m\u001b[0mdrop\u001b[0m\u001b[1;33m(\u001b[0m\u001b[0mlabels\u001b[0m\u001b[1;33m,\u001b[0m \u001b[0merrors\u001b[0m\u001b[1;33m=\u001b[0m\u001b[0merrors\u001b[0m\u001b[1;33m)\u001b[0m\u001b[1;33m\u001b[0m\u001b[1;33m\u001b[0m\u001b[0m\n\u001b[0m\u001b[0;32m   4186\u001b[0m             \u001b[0mresult\u001b[0m \u001b[1;33m=\u001b[0m \u001b[0mself\u001b[0m\u001b[1;33m.\u001b[0m\u001b[0mreindex\u001b[0m\u001b[1;33m(\u001b[0m\u001b[1;33m**\u001b[0m\u001b[1;33m{\u001b[0m\u001b[0maxis_name\u001b[0m\u001b[1;33m:\u001b[0m \u001b[0mnew_axis\u001b[0m\u001b[1;33m}\u001b[0m\u001b[1;33m)\u001b[0m\u001b[1;33m\u001b[0m\u001b[1;33m\u001b[0m\u001b[0m\n\u001b[0;32m   4187\u001b[0m \u001b[1;33m\u001b[0m\u001b[0m\n",
      "\u001b[1;32m~\\anaconda3\\lib\\site-packages\\pandas\\core\\indexes\\base.py\u001b[0m in \u001b[0;36mdrop\u001b[1;34m(self, labels, errors)\u001b[0m\n\u001b[0;32m   6015\u001b[0m         \u001b[1;32mif\u001b[0m \u001b[0mmask\u001b[0m\u001b[1;33m.\u001b[0m\u001b[0many\u001b[0m\u001b[1;33m(\u001b[0m\u001b[1;33m)\u001b[0m\u001b[1;33m:\u001b[0m\u001b[1;33m\u001b[0m\u001b[1;33m\u001b[0m\u001b[0m\n\u001b[0;32m   6016\u001b[0m             \u001b[1;32mif\u001b[0m \u001b[0merrors\u001b[0m \u001b[1;33m!=\u001b[0m \u001b[1;34m\"ignore\"\u001b[0m\u001b[1;33m:\u001b[0m\u001b[1;33m\u001b[0m\u001b[1;33m\u001b[0m\u001b[0m\n\u001b[1;32m-> 6017\u001b[1;33m                 \u001b[1;32mraise\u001b[0m \u001b[0mKeyError\u001b[0m\u001b[1;33m(\u001b[0m\u001b[1;34mf\"{labels[mask]} not found in axis\"\u001b[0m\u001b[1;33m)\u001b[0m\u001b[1;33m\u001b[0m\u001b[1;33m\u001b[0m\u001b[0m\n\u001b[0m\u001b[0;32m   6018\u001b[0m             \u001b[0mindexer\u001b[0m \u001b[1;33m=\u001b[0m \u001b[0mindexer\u001b[0m\u001b[1;33m[\u001b[0m\u001b[1;33m~\u001b[0m\u001b[0mmask\u001b[0m\u001b[1;33m]\u001b[0m\u001b[1;33m\u001b[0m\u001b[1;33m\u001b[0m\u001b[0m\n\u001b[0;32m   6019\u001b[0m         \u001b[1;32mreturn\u001b[0m \u001b[0mself\u001b[0m\u001b[1;33m.\u001b[0m\u001b[0mdelete\u001b[0m\u001b[1;33m(\u001b[0m\u001b[0mindexer\u001b[0m\u001b[1;33m)\u001b[0m\u001b[1;33m\u001b[0m\u001b[1;33m\u001b[0m\u001b[0m\n",
      "\u001b[1;31mKeyError\u001b[0m: \"[''] not found in axis\""
     ]
    }
   ],
   "source": [
    "df.drop(\"\")"
   ]
  },
  {
   "cell_type": "code",
   "execution_count": null,
   "metadata": {},
   "outputs": [],
   "source": []
  }
 ],
 "metadata": {
  "interpreter": {
   "hash": "4c1db8f2a11564a52f5f570d0852e6f5ccf8017818465a9592d252b11e1713d8"
  },
  "kernelspec": {
   "display_name": "Python 3.9.7 ('base')",
   "language": "python",
   "name": "python3"
  },
  "language_info": {
   "codemirror_mode": {
    "name": "ipython",
    "version": 3
   },
   "file_extension": ".py",
   "mimetype": "text/x-python",
   "name": "python",
   "nbconvert_exporter": "python",
   "pygments_lexer": "ipython3",
   "version": "3.9.7"
  },
  "orig_nbformat": 4
 },
 "nbformat": 4,
 "nbformat_minor": 2
}
