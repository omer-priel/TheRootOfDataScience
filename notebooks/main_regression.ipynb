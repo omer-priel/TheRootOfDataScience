{
 "cells": [
  {
   "cell_type": "code",
   "execution_count": 1,
   "id": "00a78b67",
   "metadata": {},
   "outputs": [],
   "source": [
    "# System\n",
    "import os\n",
    "import json\n",
    "\n",
    "# Config\n",
    "import warnings\n",
    "\n",
    "# Web Scraping\n",
    "import requests\n",
    "from bs4 import BeautifulSoup\n",
    "\n",
    "# Data\n",
    "import numpy as np\n",
    "import pandas as pd\n",
    "\n",
    "# View\n",
    "import matplotlib.pyplot as plt\n",
    "import matplotlib.patches\n",
    "import seaborn as sns\n",
    "from IPython.display import Image\n",
    "\n",
    "# ML\n",
    "import sklearn\n",
    "from sklearn.model_selection import train_test_split\n",
    "from sklearn.model_selection import cross_val_score\n",
    "from sklearn.metrics import explained_variance_score\n",
    "from sklearn.model_selection import GridSearchCV\n",
    "from sklearn.model_selection import RandomizedSearchCV\n",
    "from sklearn import metrics\n",
    "\n",
    "from sklearn.preprocessing import StandardScaler\n",
    "\n",
    "# ML Models\n",
    "from sklearn.dummy import DummyRegressor\n",
    "\n",
    "from sklearn.neighbors import KNeighborsRegressor\n",
    "from sklearn.linear_model import LogisticRegression\n",
    "from sklearn.ensemble import RandomForestRegressor\n",
    "\n",
    "from sklearn.ensemble import RandomForestClassifier\n",
    "from sklearn.neighbors import KNeighborsClassifier"
   ]
  },
  {
   "cell_type": "code",
   "execution_count": 2,
   "id": "e0daf5dd",
   "metadata": {},
   "outputs": [],
   "source": [
    "# Utilities Files\n",
    "def read_csv(name: str, index_label='id') -> pd.DataFrame:\n",
    "    return pd.read_csv('../data/' + name + '.csv', index_col=index_label)\n",
    "\n",
    "\n",
    "def save_csv(df: pd.DataFrame, name: str, index_label='id'):\n",
    "    df.to_csv('../data/' + name + '.csv', index_label=index_label)\n",
    "\n",
    "def show_image(name: str):\n",
    "    return Image(filename= '../images/' + name + '.png')"
   ]
  },
  {
   "cell_type": "code",
   "execution_count": 3,
   "id": "e1597b26",
   "metadata": {},
   "outputs": [],
   "source": [
    "# Development Flags\n",
    "SHOW_IN_RELEASE = True\n",
    "SHOW_IN_DEVELOPMENT = False\n",
    "MIN_DATA_MODE = False\n",
    "\n",
    "# Flags for the environment release mode and development mode"
   ]
  },
  {
   "cell_type": "code",
   "execution_count": 4,
   "id": "68f0e7c4",
   "metadata": {},
   "outputs": [],
   "source": [
    "if SHOW_IN_RELEASE:\n",
    "    show_image('Sorry')"
   ]
  },
  {
   "cell_type": "code",
   "execution_count": 5,
   "id": "70fc88a9",
   "metadata": {},
   "outputs": [],
   "source": [
    "if SHOW_IN_RELEASE:\n",
    "    show_image('Data_Collectors')"
   ]
  },
  {
   "cell_type": "code",
   "execution_count": 6,
   "id": "10a22c95",
   "metadata": {},
   "outputs": [],
   "source": [
    "# Remove python warnings in release mode\n",
    "\n",
    "if SHOW_IN_RELEASE:\n",
    "    warnings.filterwarnings('ignore')"
   ]
  },
  {
   "cell_type": "code",
   "execution_count": 7,
   "id": "626a16e0",
   "metadata": {},
   "outputs": [],
   "source": [
    "# Load the data\n",
    "\n",
    "df_original = read_csv('businesses')\n",
    "df_original = df_original[df_original[\"HasExpensiveLevel\"]==1]\n",
    "\n",
    "# resize the data\n",
    "if MIN_DATA_MODE:\n",
    "    df_original = train_test_split(df_original, train_size=0.05, random_state=22)[0]\n",
    "\n",
    "df = df_original.copy()\n",
    "\n",
    "# Remove text columns and 'ExpensiveLevel'\n",
    "df.drop([\"Url\", \"Name\", \"HasExpensiveLevel\", \"SubCategories\", \"AttributesHas\"], axis=1, inplace=True)"
   ]
  },
  {
   "cell_type": "code",
   "execution_count": 8,
   "id": "58a1c6ad",
   "metadata": {},
   "outputs": [],
   "source": [
    "# Split the data to Train and Final Test\n",
    "\n",
    "Y = target = df[\"ExpensiveLevel\"]\n",
    "X = data = df.drop([\"ExpensiveLevel\"], axis=1)\n",
    "x_train, x_finale_test, y_train, y_finale_test = train_test_split(X, Y, test_size=0.05, random_state=21)"
   ]
  },
  {
   "cell_type": "code",
   "execution_count": 9,
   "id": "a848046c",
   "metadata": {},
   "outputs": [],
   "source": [
    "# create Data Frame of the Train Data\n",
    "\n",
    "df = df_train = pd.concat([y_train, x_train], axis=1)\n",
    "df.reset_index(drop=True, inplace=True)"
   ]
  },
  {
   "cell_type": "code",
   "execution_count": 10,
   "id": "be0b50a6",
   "metadata": {},
   "outputs": [],
   "source": [
    "# Visuation for undestanding the data"
   ]
  },
  {
   "cell_type": "code",
   "execution_count": 11,
   "id": "840ed274",
   "metadata": {},
   "outputs": [],
   "source": [
    "# Config columns names\n",
    "target_column = \"ExpensiveLevel\"\n",
    "target_column_label = \"Expensive Level\"\n",
    "\n",
    "prime_flag_columns = [\n",
    "    'Claimed', 'HasWebsite'\n",
    "]\n",
    "\n",
    "prime_countable_columns = [\n",
    "    'Stars',\n",
    "    'SubCategoriesCount', 'AttributesCount',\n",
    "    'QuestionsCount', 'WeeklyBreaks', 'WeeklyDays'\n",
    "]\n",
    "prime_non_countable_columns = [\n",
    "     'Reviews', 'Photos',\n",
    "    'WeeklyHours'\n",
    "]\n",
    "\n",
    "prime_columns = prime_flag_columns + prime_countable_columns + prime_non_countable_columns"
   ]
  },
  {
   "cell_type": "code",
   "execution_count": 12,
   "id": "9f8937b5",
   "metadata": {},
   "outputs": [
    {
     "data": {
      "text/html": [
       "<div>\n",
       "<style scoped>\n",
       "    .dataframe tbody tr th:only-of-type {\n",
       "        vertical-align: middle;\n",
       "    }\n",
       "\n",
       "    .dataframe tbody tr th {\n",
       "        vertical-align: top;\n",
       "    }\n",
       "\n",
       "    .dataframe thead th {\n",
       "        text-align: right;\n",
       "    }\n",
       "</style>\n",
       "<table border=\"1\" class=\"dataframe\">\n",
       "  <thead>\n",
       "    <tr style=\"text-align: right;\">\n",
       "      <th></th>\n",
       "      <th>ExpensiveLevel</th>\n",
       "      <th>Claimed</th>\n",
       "      <th>HasWebsite</th>\n",
       "      <th>Stars</th>\n",
       "      <th>SubCategoriesCount</th>\n",
       "      <th>AttributesCount</th>\n",
       "      <th>QuestionsCount</th>\n",
       "      <th>WeeklyBreaks</th>\n",
       "      <th>WeeklyDays</th>\n",
       "      <th>Reviews</th>\n",
       "      <th>Photos</th>\n",
       "      <th>WeeklyHours</th>\n",
       "    </tr>\n",
       "  </thead>\n",
       "  <tbody>\n",
       "    <tr>\n",
       "      <th>count</th>\n",
       "      <td>17023.000000</td>\n",
       "      <td>17023.000000</td>\n",
       "      <td>17023.000000</td>\n",
       "      <td>17023.000000</td>\n",
       "      <td>17023.000000</td>\n",
       "      <td>17023.000000</td>\n",
       "      <td>17023.000000</td>\n",
       "      <td>17023.000000</td>\n",
       "      <td>17023.000000</td>\n",
       "      <td>17023.000000</td>\n",
       "      <td>17023.000000</td>\n",
       "      <td>17023.000000</td>\n",
       "    </tr>\n",
       "    <tr>\n",
       "      <th>mean</th>\n",
       "      <td>2.022264</td>\n",
       "      <td>0.740645</td>\n",
       "      <td>0.861834</td>\n",
       "      <td>8.225812</td>\n",
       "      <td>2.194325</td>\n",
       "      <td>4.211420</td>\n",
       "      <td>3.880103</td>\n",
       "      <td>0.658110</td>\n",
       "      <td>5.173354</td>\n",
       "      <td>426.143864</td>\n",
       "      <td>542.875169</td>\n",
       "      <td>111.709393</td>\n",
       "    </tr>\n",
       "    <tr>\n",
       "      <th>std</th>\n",
       "      <td>0.596102</td>\n",
       "      <td>0.438294</td>\n",
       "      <td>0.345084</td>\n",
       "      <td>0.871822</td>\n",
       "      <td>0.821417</td>\n",
       "      <td>0.473359</td>\n",
       "      <td>0.390545</td>\n",
       "      <td>1.838731</td>\n",
       "      <td>1.621285</td>\n",
       "      <td>677.011021</td>\n",
       "      <td>986.218064</td>\n",
       "      <td>53.479714</td>\n",
       "    </tr>\n",
       "    <tr>\n",
       "      <th>min</th>\n",
       "      <td>1.000000</td>\n",
       "      <td>0.000000</td>\n",
       "      <td>0.000000</td>\n",
       "      <td>2.000000</td>\n",
       "      <td>0.000000</td>\n",
       "      <td>0.000000</td>\n",
       "      <td>1.000000</td>\n",
       "      <td>0.000000</td>\n",
       "      <td>0.000000</td>\n",
       "      <td>1.000000</td>\n",
       "      <td>0.000000</td>\n",
       "      <td>0.000000</td>\n",
       "    </tr>\n",
       "    <tr>\n",
       "      <th>25%</th>\n",
       "      <td>2.000000</td>\n",
       "      <td>0.000000</td>\n",
       "      <td>1.000000</td>\n",
       "      <td>8.000000</td>\n",
       "      <td>1.000000</td>\n",
       "      <td>4.000000</td>\n",
       "      <td>4.000000</td>\n",
       "      <td>0.000000</td>\n",
       "      <td>5.000000</td>\n",
       "      <td>74.000000</td>\n",
       "      <td>91.000000</td>\n",
       "      <td>78.000000</td>\n",
       "    </tr>\n",
       "    <tr>\n",
       "      <th>50%</th>\n",
       "      <td>2.000000</td>\n",
       "      <td>1.000000</td>\n",
       "      <td>1.000000</td>\n",
       "      <td>8.000000</td>\n",
       "      <td>2.000000</td>\n",
       "      <td>4.000000</td>\n",
       "      <td>4.000000</td>\n",
       "      <td>0.000000</td>\n",
       "      <td>6.000000</td>\n",
       "      <td>209.000000</td>\n",
       "      <td>245.000000</td>\n",
       "      <td>118.000000</td>\n",
       "    </tr>\n",
       "    <tr>\n",
       "      <th>75%</th>\n",
       "      <td>2.000000</td>\n",
       "      <td>1.000000</td>\n",
       "      <td>1.000000</td>\n",
       "      <td>9.000000</td>\n",
       "      <td>3.000000</td>\n",
       "      <td>4.000000</td>\n",
       "      <td>4.000000</td>\n",
       "      <td>0.000000</td>\n",
       "      <td>6.000000</td>\n",
       "      <td>498.000000</td>\n",
       "      <td>595.000000</td>\n",
       "      <td>147.000000</td>\n",
       "    </tr>\n",
       "    <tr>\n",
       "      <th>max</th>\n",
       "      <td>4.000000</td>\n",
       "      <td>1.000000</td>\n",
       "      <td>1.000000</td>\n",
       "      <td>10.000000</td>\n",
       "      <td>4.000000</td>\n",
       "      <td>9.000000</td>\n",
       "      <td>4.000000</td>\n",
       "      <td>14.000000</td>\n",
       "      <td>6.000000</td>\n",
       "      <td>16981.000000</td>\n",
       "      <td>31726.000000</td>\n",
       "      <td>336.000000</td>\n",
       "    </tr>\n",
       "  </tbody>\n",
       "</table>\n",
       "</div>"
      ],
      "text/plain": [
       "       ExpensiveLevel       Claimed    HasWebsite         Stars  \\\n",
       "count    17023.000000  17023.000000  17023.000000  17023.000000   \n",
       "mean         2.022264      0.740645      0.861834      8.225812   \n",
       "std          0.596102      0.438294      0.345084      0.871822   \n",
       "min          1.000000      0.000000      0.000000      2.000000   \n",
       "25%          2.000000      0.000000      1.000000      8.000000   \n",
       "50%          2.000000      1.000000      1.000000      8.000000   \n",
       "75%          2.000000      1.000000      1.000000      9.000000   \n",
       "max          4.000000      1.000000      1.000000     10.000000   \n",
       "\n",
       "       SubCategoriesCount  AttributesCount  QuestionsCount  WeeklyBreaks  \\\n",
       "count        17023.000000     17023.000000    17023.000000  17023.000000   \n",
       "mean             2.194325         4.211420        3.880103      0.658110   \n",
       "std              0.821417         0.473359        0.390545      1.838731   \n",
       "min              0.000000         0.000000        1.000000      0.000000   \n",
       "25%              1.000000         4.000000        4.000000      0.000000   \n",
       "50%              2.000000         4.000000        4.000000      0.000000   \n",
       "75%              3.000000         4.000000        4.000000      0.000000   \n",
       "max              4.000000         9.000000        4.000000     14.000000   \n",
       "\n",
       "         WeeklyDays       Reviews        Photos   WeeklyHours  \n",
       "count  17023.000000  17023.000000  17023.000000  17023.000000  \n",
       "mean       5.173354    426.143864    542.875169    111.709393  \n",
       "std        1.621285    677.011021    986.218064     53.479714  \n",
       "min        0.000000      1.000000      0.000000      0.000000  \n",
       "25%        5.000000     74.000000     91.000000     78.000000  \n",
       "50%        6.000000    209.000000    245.000000    118.000000  \n",
       "75%        6.000000    498.000000    595.000000    147.000000  \n",
       "max        6.000000  16981.000000  31726.000000    336.000000  "
      ]
     },
     "execution_count": 12,
     "metadata": {},
     "output_type": "execute_result"
    }
   ],
   "source": [
    "# Describe the data\n",
    "df[[target_column] + prime_columns].describe()\n",
    "\n",
    "# The data has mostly medium(2) expensive level instances\n",
    "# And because of that the data is unbalanced we expecting\n",
    "# that accuracy of the model not to be bad."
   ]
  },
  {
   "cell_type": "code",
   "execution_count": 13,
   "id": "fa0b0c67",
   "metadata": {},
   "outputs": [],
   "source": [
    "# Diplay line of plots side by side\n",
    "def disply_atter_per_column(inedexs: list, values: list, columns_label: list, min_value: float, max_value: float):\n",
    "    global legend_colors, target_column, target_column_label\n",
    "    \n",
    "    # Main elements    \n",
    "    fig = plt.figure(figsize = [16, 8])\n",
    "        \n",
    "    for i in range(len(values)):        \n",
    "        value = values[i]\n",
    "        if value is not None:\n",
    "            index = indexs[i]\n",
    "            label = columns_label[i]\n",
    "            \n",
    "            # Graf\n",
    "            ax_graf =  fig.add_subplot(1, len(values), i+1)\n",
    "            \n",
    "            plt.sca(ax_graf)\n",
    "            plt.plot(index, value)\n",
    "            plt.xlabel(label)\n",
    "            plt.ylabel(target_column_label)\n",
    "            plt.ylim(min_value, max_value)\n",
    "            \n",
    "    plt.show()"
   ]
  },
  {
   "cell_type": "code",
   "execution_count": 14,
   "id": "ffffd22b",
   "metadata": {},
   "outputs": [],
   "source": [
    "# Diplay multi bars side by side in table\n",
    "def disply_multi_bars(inedexs: list, values: list, indexs_label, values_label, elements_in_line: int):\n",
    "    global legend_colors\n",
    "    \n",
    "    values += np.full(elements_in_line-len(values)%elements_in_line, None).tolist()\n",
    "    inedexs += np.full(elements_in_line-len(values)%elements_in_line, None).tolist()\n",
    "    \n",
    "    h = int(len(values) / elements_in_line)\n",
    "    \n",
    "    # Main elements \n",
    "    fig = plt.figure(figsize = [16, h * 8])\n",
    "    \n",
    "    gs = fig.add_gridspec(h, elements_in_line)\n",
    "    \n",
    "    line = 0\n",
    "    while len(values) > 0:\n",
    "        now_values = values[:elements_in_line]\n",
    "        now_inedexs = inedexs[:elements_in_line]\n",
    "                \n",
    "        for i in range(elements_in_line):        \n",
    "            value = now_values[i]\n",
    "            if value is not None:\n",
    "                index = now_inedexs[i]\n",
    "                value = now_values[i]\n",
    "            \n",
    "                index_label = indexs_label\n",
    "                value_label = values_label\n",
    "                if type(indexs_label) == list:\n",
    "                    index_label = indexs_label[i]\n",
    "            \n",
    "                if type(values_label) == list:\n",
    "                    value_label = values_label[i]\n",
    "            \n",
    "                # Graf\n",
    "                ax_graf = fig.add_subplot(gs[line, i])\n",
    "        \n",
    "                plt.sca(ax_graf)\n",
    "                plt.bar(index, value)\n",
    "                plt.xlabel(index_label)\n",
    "                plt.ylabel(value_label)\n",
    "                \n",
    "        values = values[elements_in_line:]\n",
    "        inedexs = inedexs[elements_in_line:]\n",
    "        \n",
    "        if type(indexs_label) == list:\n",
    "            indexs_label = indexs_label[elements_in_line:]\n",
    "            \n",
    "        if type(values_label) == list:\n",
    "            values_label = values_label[elements_in_line:]\n",
    "        \n",
    "        line += 1\n",
    "    \n",
    "    plt.show()"
   ]
  },
  {
   "cell_type": "code",
   "execution_count": 15,
   "id": "f782dc04",
   "metadata": {},
   "outputs": [
    {
     "data": {
      "image/png": "[encoded data removed]",
      "text/plain": [
       "<Figure size 1152x576 with 3 Axes>"
      ]
     },
     "metadata": {
      "needs_background": "light"
     },
     "output_type": "display_data"
    },
    {
     "data": {
      "image/png": "[encoded data removed]",
      "text/plain": [
       "<Figure size 1152x576 with 3 Axes>"
      ]
     },
     "metadata": {
      "needs_background": "light"
     },
     "output_type": "display_data"
    },
    {
     "data": {
      "text/plain": [
       "<Figure size 1152x576 with 0 Axes>"
      ]
     },
     "metadata": {},
     "output_type": "display_data"
    }
   ],
   "source": [
    "# Disply the average of the target per prime the feacture\n",
    "# Feactures:\n",
    "# Stars, Questions Count\n",
    "# Sub Categories Count, Attributes Count\n",
    "# Weekly Breaks and Weekly Days\n",
    "\n",
    "if SHOW_IN_RELEASE:\n",
    "    \n",
    "    printed_columns = prime_countable_columns\n",
    "    atter_name = 'mean'\n",
    "    \n",
    "    elements_in_line = 3\n",
    "    printed_columns += np.full(elements_in_line-len(printed_columns)%elements_in_line, None).tolist()\n",
    "    while len(printed_columns) > 0:\n",
    "        now_columns = printed_columns[:elements_in_line]\n",
    "        indexs = []\n",
    "        values = []\n",
    "        for column in now_columns:\n",
    "            if column is None:\n",
    "                indexs += [None]\n",
    "                values += [None]\n",
    "            else:\n",
    "                atter_df = df[[target_column, column]].groupby([column])\n",
    "                atter_df = getattr(atter_df, atter_name)()\n",
    "            \n",
    "                indexs += [atter_df.index]\n",
    "                values += [atter_df[target_column].values]            \n",
    "        \n",
    "        disply_atter_per_column(indexs, values, printed_columns[:elements_in_line], 1.0, 4.0)\n",
    "        printed_columns = printed_columns[elements_in_line:]"
   ]
  },
  {
   "cell_type": "code",
   "execution_count": 16,
   "id": "40a4a930",
   "metadata": {},
   "outputs": [
    {
     "data": {
      "image/png": "[encoded data removed]",
      "text/plain": [
       "<Figure size 1152x576 with 2 Axes>"
      ]
     },
     "metadata": {
      "needs_background": "light"
     },
     "output_type": "display_data"
    },
    {
     "data": {
      "image/png": "[encoded data removed]",
      "text/plain": [
       "<Figure size 1152x576 with 1 Axes>"
      ]
     },
     "metadata": {
      "needs_background": "light"
     },
     "output_type": "display_data"
    }
   ],
   "source": [
    "## calculates the probability based on sections\n",
    "\n",
    "if SHOW_IN_RELEASE:\n",
    "    \n",
    "    sections=40\n",
    "    atter_name = 'mean'\n",
    "    elements_in_line = 2\n",
    "    printed_columns = prime_non_countable_columns\n",
    "    \n",
    "    printed_columns += np.full(elements_in_line-len(printed_columns)%elements_in_line, None).tolist()\n",
    "    while len(printed_columns) > 0:\n",
    "        now_columns = printed_columns[:elements_in_line]\n",
    "        indexs = []\n",
    "        values = []\n",
    "        for column in now_columns:\n",
    "            if column is None:\n",
    "                indexs += [None]\n",
    "                values += [None]\n",
    "            else:\n",
    "                new_df = df[[target_column, column]].sort_values(column)\n",
    "                length = len(new_df)\n",
    "                new_df[\"Sections\"] = df.index//(length/sections)\n",
    "                section_name = range(0,100,100//sections)\n",
    "                atter_df = new_df[[target_column, \"Sections\"]].groupby([\"Sections\"])\n",
    "                atter_df = getattr(atter_df, atter_name)()\n",
    "            \n",
    "                indexs += [atter_df.index]\n",
    "                values += [atter_df[target_column].values]            \n",
    "        \n",
    "        disply_atter_per_column(indexs, values, printed_columns[:elements_in_line], 1.0, 4.0)\n",
    "        printed_columns = printed_columns[elements_in_line:]\n"
   ]
  },
  {
   "cell_type": "code",
   "execution_count": 17,
   "id": "bf09ffd5",
   "metadata": {
    "scrolled": true
   },
   "outputs": [],
   "source": [
    "# All the feactures gives bad results"
   ]
  },
  {
   "cell_type": "code",
   "execution_count": 18,
   "id": "f94c053c",
   "metadata": {},
   "outputs": [
    {
     "data": {
      "text/plain": [
       "<AxesSubplot:>"
      ]
     },
     "execution_count": 18,
     "metadata": {},
     "output_type": "execute_result"
    },
    {
     "data": {
      "image/png": "[encoded data removed]",
      "text/plain": [
       "<Figure size 864x288 with 2 Axes>"
      ]
     },
     "metadata": {
      "needs_background": "light"
     },
     "output_type": "display_data"
    }
   ],
   "source": [
    "# Creating correlation matrix\n",
    "# This will show correlation between the feactures to the target\n",
    "corr_matrix = df[[target_column] + prime_columns].corr()\n",
    "\n",
    "# For change the heatmap size\n",
    "fig, ax = plt.subplots(figsize=(12,4))\n",
    "\n",
    "sns.heatmap(\n",
    "    corr_matrix,\n",
    "    vmin = -1,\n",
    "    vmax = 1,\n",
    "    center = 0,\n",
    "    cmap = plt.cm.get_cmap(\"bwr\"),\n",
    "    linewidths=.5,\n",
    "    ax=ax\n",
    "    )"
   ]
  },
  {
   "cell_type": "code",
   "execution_count": 19,
   "id": "42d8f4ca",
   "metadata": {},
   "outputs": [],
   "source": [
    "# the only main correlation is between feactures:\n",
    "# Weekly Days to Weekly Hours\n",
    "# Reviews to Photos\n",
    "\n",
    "# The first is from definition of the feactures\n",
    "# Reviews gives Photos, so that makes sense that thay have correlation\n",
    "\n",
    "# but, not even one feature has linear correlation to the target.\n",
    "# Like we expect"
   ]
  },
  {
   "cell_type": "code",
   "execution_count": 20,
   "id": "3af43175",
   "metadata": {},
   "outputs": [
    {
     "data": {
      "image/png": "[encoded data removed]",
      "text/plain": [
       "<Figure size 1152x1728 with 7 Axes>"
      ]
     },
     "metadata": {
      "needs_background": "light"
     },
     "output_type": "display_data"
    }
   ],
   "source": [
    "# Shows how much data we have for each value in each feature\n",
    "\n",
    "if SHOW_IN_RELEASE:\n",
    "    \n",
    "    printed_columns = prime_countable_columns + [target_column]\n",
    "    elements_in_line = 3\n",
    "    indexs = []\n",
    "    values = []\n",
    "    for column in printed_columns:\n",
    "        if column is not None:\n",
    "            count_df = df[column].value_counts()\n",
    "            \n",
    "            indexs += [count_df.index]\n",
    "            values += [count_df.values.tolist()]            \n",
    "    \n",
    "    disply_multi_bars(indexs, values, printed_columns, 'Count', elements_in_line)\n",
    "    "
   ]
  },
  {
   "cell_type": "code",
   "execution_count": 21,
   "id": "6407227f",
   "metadata": {},
   "outputs": [
    {
     "data": {
      "image/png": "[encoded data removed]",
      "text/plain": [
       "<Figure size 1152x1152 with 3 Axes>"
      ]
     },
     "metadata": {
      "needs_background": "light"
     },
     "output_type": "display_data"
    },
    {
     "data": {
      "text/plain": [
       "<Figure size 1152x1152 with 0 Axes>"
      ]
     },
     "metadata": {},
     "output_type": "display_data"
    }
   ],
   "source": [
    "if SHOW_IN_RELEASE:\n",
    "    \n",
    "    printed_columns = prime_non_countable_columns    \n",
    "    elements_in_line = 3\n",
    "    printed_columns += np.full(elements_in_line-len(printed_columns)%elements_in_line, None).tolist()\n",
    "    while len(printed_columns) > 0:\n",
    "        now_columns = printed_columns[:elements_in_line]\n",
    "        indexs = []\n",
    "        values = []\n",
    "        for column in now_columns:\n",
    "            if column is None:\n",
    "                indexs += [None]\n",
    "                values += [None]\n",
    "            else:\n",
    "                count_df = df[[target_column, column]].groupby([column]).count()\n",
    "            \n",
    "                indexs += [count_df.index]\n",
    "                values += [count_df[target_column].values.tolist()]            \n",
    "\n",
    "        disply_multi_bars(indexs, values, printed_columns[:elements_in_line], 'Count', elements_in_line)\n",
    "        printed_columns = printed_columns[elements_in_line:]"
   ]
  },
  {
   "cell_type": "code",
   "execution_count": 22,
   "id": "94a31a2e",
   "metadata": {},
   "outputs": [
    {
     "data": {
      "image/png": "[encoded data removed]",
      "text/plain": [
       "<Figure size 432x288 with 1 Axes>"
      ]
     },
     "metadata": {
      "needs_background": "light"
     },
     "output_type": "display_data"
    }
   ],
   "source": [
    "# Shows how much features we lose if we decide to limit the amount of instances a category should have to appear\n",
    "\n",
    "if SHOW_IN_RELEASE:\n",
    "    column_values = df.columns.map(lambda x: x.startswith(\"Cat_\"))\n",
    "    cat_df = df.loc[:, column_values]\n",
    "    categ = cat_df.sum().sort_values()\n",
    "    limits = range(50)\n",
    "    remainders = []\n",
    "    for limit in limits:\n",
    "        remainders += [(categ.values<limit).sum()]\n",
    "    fig= plt.figure()\n",
    "    ax_graph= fig.add_subplot(1,1,1)\n",
    "    ax_graph= plt.step(remainders,limits)\n",
    "    for i in range(0,50,5):\n",
    "        plt.plot([0,300],[i,i],linestyle= \":\" )\n",
    "    plt.ylabel(\"the cutoff\")\n",
    "    plt.xlabel(\"categories we lose\")\n",
    "    plt.show()"
   ]
  },
  {
   "cell_type": "code",
   "execution_count": 23,
   "id": "af363eaa",
   "metadata": {},
   "outputs": [],
   "source": [
    "# Shows us how much categories we have for different means\n",
    "# This is only for lior\n",
    "\n",
    "if SHOW_IN_DEVELOPMENT:\n",
    "    sections = 40\n",
    "    step = 3/sections\n",
    "    sub_categories = filter(lambda x: x.startswith(\"Cat_\"),df.columns)\n",
    "    x0 = np.arange(1.0,3.999 + step,step)\n",
    "    y0 = np.zeros(sections + 1)\n",
    "    x1 = np.arange(1.0,3.9999 + step ,step)\n",
    "    y1 = np.zeros(sections + 1)\n",
    "    \n",
    "    for category in sub_categories:\n",
    "        if (df[category].sum()>5):\n",
    "            mean_df = df[[target_column, category]].groupby([category]).mean()\n",
    "            standardised0 = ( mean_df.loc[0.0,target_column] - 1)/3.0 \n",
    "            y0[(int)((standardised0 * sections).round())] += 1\n",
    "            if (1.0 in mean_df.index):\n",
    "                standardised1 = ( mean_df.loc[1.0,target_column] - 1)/3.0 \n",
    "                y1[(int) ((standardised1 * sections).round())] += 1\n",
    "\n",
    "                \n",
    "                \n",
    "    #handle layout\n",
    "    fig = plt.figure()\n",
    "    ax0_graph = fig.add_subplot(2,1,1)\n",
    "    plt.plot(x0,y0)\n",
    "    plt.xlabel(\"mean of expensive level given not in category\")\n",
    "    plt.ylabel(\"amount of categories\")\n",
    "    plt.ylim(0,10)\n",
    "    ax1_graph = fig.add_subplot(2,1,2)\n",
    "    ax1_graph = plt.plot(x1,y1)\n",
    "    plt.xlabel(\"mean of expensive given in category\")\n",
    "    plt.ylabel(\"amount of categories\")\n",
    "    plt.ylim(0,10)\n",
    "    plt.tight_layout()\n",
    "    plt.show()\n",
    "    #looks like not being in a category doesnt help predict"
   ]
  },
  {
   "cell_type": "code",
   "execution_count": 24,
   "id": "c0356027",
   "metadata": {},
   "outputs": [],
   "source": [
    "## create collumns which generally represents a bunch of other collumns based on their relative mean\n",
    "class create_general_collumns:\n",
    "    \n",
    "    def __init__(self, starter, collumns_number):\n",
    "        self.collumn_map = np.empty(collumns_number+1, dtype= object)\n",
    "        self.starter = starter\n",
    "        self.starts = lambda x:x.startswith(starter)\n",
    "        self.collumns_number = collumns_number\n",
    "        \n",
    "        \n",
    "    def fit(self, df_create: pd.DataFrame):\n",
    "        sub_categories = filter(self.starts, df_create.columns)\n",
    "        \n",
    "        for i in range(self.collumn_map.shape[0]):\n",
    "            self.collumn_map[i] = []\n",
    "        \n",
    "        for category in sub_categories:\n",
    "            mean_df = df[[target_column, category]].groupby([category]).mean()\n",
    "            if (1.0 in mean_df.index):\n",
    "                standardised = ( mean_df.loc[1.0,target_column] - 1)/3.0 \n",
    "                self.collumn_map[(int) ((standardised1 * self.collumns_number).round())] += [category]\n",
    "    \n",
    "    \n",
    "    def transform(self, df_create:pd.DataFrame):\n",
    "        df_copy = df_create.copy()\n",
    "        \n",
    "        index=0\n",
    "        for category_class in self.collumn_map:\n",
    "            df_copy[\"general\" + self.starter + str(index)] = df_copy[category_class].sum(axis=1)\n",
    "            index += 1\n",
    "        return df_copy"
   ]
  },
  {
   "cell_type": "code",
   "execution_count": 25,
   "id": "99309c91",
   "metadata": {},
   "outputs": [],
   "source": [
    "# Time as enums\n",
    "\n",
    "week_days = {\n",
    "    \"1\": \"Sunday\",\n",
    "    \"2\":\"Monday\",\n",
    "    \"3\":\"Tuesday\",\n",
    "    \"4\":\"Wednesday\",\n",
    "    \"5\": \"Thursday\",\n",
    "    \"6\":\"Friday\",\n",
    "    \"7\":\"Saturday\"\n",
    "}\n",
    "\n",
    "time_open_select = [\n",
    "    '12:00 AM', '12:30 AM',\n",
    "    '1:00 AM', '1:30 AM',\n",
    "    '2:00 AM', '2:30 AM',\n",
    "    '3:00 AM', '3:30 AM',\n",
    "    '4:00 AM', '4:30 AM',\n",
    "    '5:00 AM', '5:30 AM',\n",
    "    '6:00 AM', '6:30 AM',\n",
    "    '7:00 AM', '7:30 AM',\n",
    "    '8:00 AM', '8:30 AM',\n",
    "    '9:00 AM', '9:30 AM',\n",
    "    '10:00 AM', '10:30 AM',\n",
    "    '11:00 AM', '11:30 AM',\n",
    "    '12:00 PM', '12:30 PM',\n",
    "    '1:00 PM', '1:30 PM',\n",
    "    '2:00 PM', '2:30 PM',\n",
    "    '3:00 PM', '3:30 PM',\n",
    "    '4:00 PM', '4:30 PM',\n",
    "    '5:00 PM', '5:30 PM',\n",
    "    '6:00 PM', '6:30 PM',\n",
    "    '7:00 PM', '7:30 PM',\n",
    "    '8:00 PM', '8:30 PM',\n",
    "    '9:00 PM', '9:30 PM',\n",
    "    '10:00 PM', '10:30 PM',\n",
    "    '11:00 PM', '11:30 PM',\n",
    "    ]\n",
    "\n",
    "time_end_select = [\n",
    "    '12:00 AM', '12:30 AM',\n",
    "    '1:00 AM', '1:30 AM',\n",
    "    '2:00 AM', '2:30 AM',\n",
    "    '3:00 AM', '3:30 AM',\n",
    "    '4:00 AM', '4:30 AM',\n",
    "    '5:00 AM', '5:30 AM',\n",
    "    '6:00 AM', '6:30 AM',\n",
    "    '7:00 AM', '7:30 AM',\n",
    "    '8:00 AM', '8:30 AM',\n",
    "    '9:00 AM', '9:30 AM',\n",
    "    '10:00 AM', '10:30 AM',\n",
    "    '11:00 AM', '11:30 AM',\n",
    "    '12:00 PM', '12:30 PM',\n",
    "    '1:00 PM', '1:30 PM',\n",
    "    '2:00 PM', '2:30 PM',\n",
    "    '3:00 PM', '3:30 PM',\n",
    "    '4:00 PM', '4:30 PM',\n",
    "    '5:00 PM', '5:30 PM',\n",
    "    '6:00 PM', '6:30 PM',\n",
    "    '7:00 PM', '7:30 PM',\n",
    "    '8:00 PM', '8:30 PM',\n",
    "    '9:00 PM', '9:30 PM',\n",
    "    '10:00 PM', '10:30 PM',\n",
    "    '11:00 PM', '11:30 PM',\n",
    "    '12:00 AM ', '12:30 AM',\n",
    "    '1:00 AM ', '1:30 AM ',\n",
    "    '2:00 AM ', '2:30 AM ',\n",
    "    '3:00 AM ', '3:30 AM ',\n",
    "    '4:00 AM ', '4:30 AM ',\n",
    "    '5:00 AM ', '5:30 AM ',\n",
    "    '6:00 AM ', '6:30 AM ',\n",
    "    ]\n"
   ]
  },
  {
   "cell_type": "code",
   "execution_count": 26,
   "id": "ad27402c",
   "metadata": {},
   "outputs": [],
   "source": [
    "# Show the opening hour ped day\n",
    "\n",
    "if SHOW_IN_DEVELOPMENT:    \n",
    "    fig = plt.figure(figsize= (16, 8))\n",
    "    \n",
    "    ax = fig.add_subplot(1, 1, 1)\n",
    "    plt.sca(ax)\n",
    "    \n",
    "    plt.ylabel(\"is expensive\")\n",
    "    plt.xlabel(\"Opening Hour\")\n",
    "    \n",
    "    for i in range(7):\n",
    "        mean_df = df[[\"OpenHour\"+str(i+1), target_column]].groupby([\"OpenHour\"+str(i+1)]).mean()\n",
    "        plt.plot(mean_df.index, mean_df.values, label = week_days[str(i+1)])\n",
    "    \n",
    "    ax.set_xticks(range(0,48,6))\n",
    "    ax.set_xticklabels(map(lambda x:time_open_select[int(x)], range(0,48,6)))\n",
    "    \n",
    "    plt.ylim(0.8, 4.1)\n",
    "    plt.legend()\n",
    "    \n",
    "    plt.show()"
   ]
  },
  {
   "cell_type": "code",
   "execution_count": 27,
   "id": "0b50cffd",
   "metadata": {},
   "outputs": [],
   "source": [
    "# Show the opening hour ped day\n",
    "\n",
    "if SHOW_IN_DEVELOPMENT:    \n",
    "    fig = plt.figure(figsize= (16, 8))\n",
    "    \n",
    "    ax = fig.add_subplot(1, 1, 1)\n",
    "    plt.sca(ax)\n",
    "    \n",
    "    plt.ylabel(\"is expensive\")\n",
    "    plt.xlabel(\"Opening Hour\")\n",
    "    \n",
    "    for i in range(7):\n",
    "        mean_df = df[[\"OpenHour\"+str(i+1), target_column]].groupby([\"OpenHour\"+str(i+1)]).count()\n",
    "        plt.plot(mean_df.index, mean_df.values, label = week_days[str(i+1)])\n",
    "    \n",
    "    ax.set_xticks(range(0,48,6))\n",
    "    ax.set_xticklabels(map(lambda x:time_open_select[int(x)], range(0,48,6)))\n",
    "    \n",
    "    plt.legend()\n",
    "    \n",
    "    plt.show()"
   ]
  },
  {
   "cell_type": "code",
   "execution_count": 28,
   "id": "7e08363a",
   "metadata": {},
   "outputs": [],
   "source": [
    "# Show the Daily Hours per day\n",
    "\n",
    "if SHOW_IN_DEVELOPMENT:    \n",
    "    fig = plt.figure(figsize= (16, 8))\n",
    "    \n",
    "    ax = fig.add_subplot(1, 1, 1)\n",
    "    plt.sca(ax)\n",
    "    \n",
    "    plt.ylabel(\"is expensive\")\n",
    "    plt.xlabel(\"Daily Hours\")\n",
    "    \n",
    "    for i in range(7):\n",
    "        mean_df = df[[\"CountHour\"+str(i+1),target_column]].groupby([\"CountHour\"+str(i+1)]).mean()\n",
    "        plt.plot(mean_df.index,mean_df.values,label = week_days[str(i+1)])\n",
    "\n",
    "    plt.ylim(0.8,4.1)\n",
    "    plt.legend()\n",
    "    \n",
    "    plt.show()"
   ]
  },
  {
   "cell_type": "code",
   "execution_count": 29,
   "id": "8ab3d083",
   "metadata": {},
   "outputs": [],
   "source": [
    "# Show the Daily Hours per day\n",
    "\n",
    "if SHOW_IN_DEVELOPMENT:    \n",
    "    fig = plt.figure(figsize= (16, 8))\n",
    "    \n",
    "    ax = fig.add_subplot(1, 1, 1)\n",
    "    plt.sca(ax)\n",
    "    \n",
    "    plt.ylabel(\"is expensive\")\n",
    "    plt.xlabel(\"Daily Hours\")\n",
    "    \n",
    "    for i in range(7):\n",
    "        mean_df = df[[\"CountHour\"+str(i+1),target_column]].groupby([\"CountHour\"+str(i+1)]).count()\n",
    "        plt.plot(mean_df.index,mean_df.values,label = week_days[str(i+1)])\n",
    "\n",
    "    plt.legend()\n",
    "    \n",
    "    plt.show()"
   ]
  },
  {
   "cell_type": "code",
   "execution_count": 30,
   "id": "3712238d",
   "metadata": {},
   "outputs": [],
   "source": [
    "# Show the ending hour ped day\n",
    "\n",
    "if SHOW_IN_DEVELOPMENT:    \n",
    "    fig = plt.figure(figsize= (16, 8 * 4))\n",
    "    \n",
    "    for i in range(7):\n",
    "        ax_end=fig.add_subplot(5, 2, 1+i)\n",
    "        plt.sca(ax_end)\n",
    "        plt.ylabel(\"is expensive\")\n",
    "        plt.xlabel(\"Ending Hour\")\n",
    "        ax_end.set_title(week_days[str(i+1)])\n",
    "        mean_df = df[[\"EndHour\"+str(i+1),target_column]].groupby([\"EndHour\"+str(i+1)]).mean()\n",
    "        plt.plot(mean_df.index,mean_df.values)\n",
    "        ax_end.set_xticks(range(0,61,6))\n",
    "        ax_end.set_xticklabels(map(lambda x:time_end_select[int(x)], range(0,61,6)))\n",
    "                    \n",
    "        plt.ylim(0.8, 4.1)\n",
    "    \n",
    "    \n",
    "    plt.tight_layout()\n",
    "    plt.show()"
   ]
  },
  {
   "cell_type": "code",
   "execution_count": 31,
   "id": "12bf46c7",
   "metadata": {},
   "outputs": [],
   "source": [
    "# Show the ending hour ped day\n",
    "\n",
    "if SHOW_IN_DEVELOPMENT:    \n",
    "    fig = plt.figure(figsize= (16, 8 * 4))\n",
    "    \n",
    "    for i in range(7):\n",
    "        ax_end=fig.add_subplot(5, 2, 1+i)\n",
    "        plt.sca(ax_end)\n",
    "        plt.ylabel(\"is expensive\")\n",
    "        plt.xlabel(\"Ending Hour\")\n",
    "        ax_end.set_title(week_days[str(i+1)])\n",
    "        mean_df = df[[\"EndHour\"+str(i+1),target_column]].groupby([\"EndHour\"+str(i+1)]).count()\n",
    "        plt.plot(mean_df.index,mean_df.values)\n",
    "        ax_end.set_xticks(range(0,61,6))\n",
    "        ax_end.set_xticklabels(map(lambda x:time_end_select[int(x)], range(0,61,6)))\n",
    "                    \n",
    "    \n",
    "    \n",
    "    plt.tight_layout()\n",
    "    plt.show()"
   ]
  },
  {
   "cell_type": "code",
   "execution_count": 32,
   "id": "40bd90df",
   "metadata": {},
   "outputs": [],
   "source": [
    "# Model making"
   ]
  },
  {
   "cell_type": "code",
   "execution_count": 33,
   "id": "dc660465",
   "metadata": {},
   "outputs": [],
   "source": [
    "# Split the tain data\n",
    "\n",
    "x_sub_train, x_sub_test, y_sub_train, y_sub_test = train_test_split(x_train, y_train, random_state=53)"
   ]
  },
  {
   "cell_type": "code",
   "execution_count": 34,
   "id": "70a9aced",
   "metadata": {},
   "outputs": [],
   "source": [
    "# We use \"Explained Variance Score\"\n",
    "# because that the target is unbalanced\n",
    "# so, predict the variance to the target is right then the target himself"
   ]
  },
  {
   "cell_type": "code",
   "execution_count": 35,
   "id": "1771bb2e",
   "metadata": {},
   "outputs": [
    {
     "name": "stdout",
     "output_type": "stream",
     "text": [
      "Dummy Model Variance Score:  0.0\n"
     ]
    }
   ],
   "source": [
    "# Dummy Model\n",
    "\n",
    "dummy_model = DummyRegressor(strategy=\"mean\")\n",
    "\n",
    "dummy_model.fit(x_sub_train, y_sub_train)\n",
    "\n",
    "score = explained_variance_score( y_sub_test,dummy_model.predict(x_sub_test))\n",
    "print(\"Dummy Model Variance Score: \", score)"
   ]
  },
  {
   "cell_type": "code",
   "execution_count": 36,
   "id": "12e67918",
   "metadata": {},
   "outputs": [
    {
     "name": "stdout",
     "output_type": "stream",
     "text": [
      "KNR Variance Score:  0.12909976924554145\n"
     ]
    }
   ],
   "source": [
    "# First simple model\n",
    "\n",
    "knr = KNeighborsRegressor()\n",
    "knr.fit(x_sub_train, y_sub_train)\n",
    "\n",
    "score = explained_variance_score( y_sub_test, knr.predict(x_sub_test))\n",
    "print(\"KNR Variance Score: \", score)"
   ]
  },
  {
   "cell_type": "code",
   "execution_count": null,
   "id": "55b23f68",
   "metadata": {},
   "outputs": [],
   "source": [
    "# We try 3 types of models. Random Forest, KNN, and Logistic Regression\n",
    "\n",
    "# RandomForest and LogisticRegression was good to predict Has HasExpensiveLevel\n",
    "# KNN known from the class\n",
    "\n",
    "from sklearn.dummy import DummyRegressor\n",
    "\n",
    "from sklearn.neighbors import KNeighborsRegressor\n",
    "from sklearn.linear_model import LogisticRegression\n",
    "from sklearn.ensemble import RandomForestRegressor\n",
    "\n",
    "from sklearn.ensemble import RandomForestClassifier\n",
    "from sklearn.neighbors import KNeighborsClassifier\n",
    "\n",
    "knr = KNeighborsRegressor()\n",
    "knn = KNeighborsClassifier()\n",
    "\n",
    "logistic_regression = LogisticRegression()\n",
    "\n",
    "rfr = RandomForestRegressor()\n",
    "rfc = RandomForestClassifier()\n",
    "\n",
    "knr.fit(x_sub_train, y_sub_train)\n",
    "knn.fit(x_sub_train, y_sub_train)\n",
    "logistic_regression.fit(x_sub_train, y_sub_train)\n",
    "rfr.fit(x_sub_train, y_sub_train)\n",
    "rfc.fit(x_sub_train, y_sub_train)\n",
    "\n",
    "score = explained_variance_score( y_sub_test, knr.predict(x_sub_test))\n",
    "print(\"KNR Variance Score: \", score)\n",
    "score = explained_variance_score( y_sub_test, knn.predict(x_sub_test))\n",
    "print(\"KNN Variance Score: \", score)\n",
    "\n",
    "score = explained_variance_score( y_sub_test, logistic_regression.predict(x_sub_test))\n",
    "print(\"Logistic Regression Variance Score: \", score)\n",
    "\n",
    "score = explained_variance_score( y_sub_test, rfr.predict(x_sub_test))\n",
    "print(\"RandomForestRegressor Variance Score: \", score)\n",
    "score = explained_variance_score( y_sub_test, rfc.predict(x_sub_test))\n",
    "print(\"RandomForestClassifier Variance Score: \", score)"
   ]
  },
  {
   "cell_type": "code",
   "execution_count": null,
   "id": "0626be11",
   "metadata": {},
   "outputs": [],
   "source": [
    "# The closest to score to 1 is RandomForestRegressor\n",
    "# So, we going to go on him.\n",
    "# Split the data to Train and Final Test\n",
    "\n",
    "model = RandomForestRegressor()\n",
    "\n",
    "print(\"Fit the model\")\n",
    "model.fit(x_sub_train, y_sub_train)\n",
    "\n",
    "score = explained_variance_score( y_sub_test, model.predict(x_sub_test))\n",
    "print(\"Variance Score: \", score)"
   ]
  },
  {
   "cell_type": "code",
   "execution_count": null,
   "id": "092bc0f7",
   "metadata": {},
   "outputs": [],
   "source": [
    "# Final Test\n",
    "model = RandomForestRegressor()\n",
    "\n",
    "print(\"Fit: \")\n",
    "rfc.fit(x_train, y_train)\n",
    "\n",
    "score = explained_variance_score(y_finale_test, model.predict(x_finale_test))\n",
    "print(\"Variance Score: \", score)"
   ]
  },
  {
   "cell_type": "code",
   "execution_count": null,
   "id": "84be0a47",
   "metadata": {},
   "outputs": [],
   "source": [
    "# END"
   ]
  }
 ],
 "metadata": {
  "kernelspec": {
   "display_name": "Python 3",
   "language": "python",
   "name": "python3"
  },
  "language_info": {
   "codemirror_mode": {
    "name": "ipython",
    "version": 3
   },
   "file_extension": ".py",
   "mimetype": "text/x-python",
   "name": "python",
   "nbconvert_exporter": "python",
   "pygments_lexer": "ipython3",
   "version": "3.8.8"
  }
 },
 "nbformat": 4,
 "nbformat_minor": 5
}
