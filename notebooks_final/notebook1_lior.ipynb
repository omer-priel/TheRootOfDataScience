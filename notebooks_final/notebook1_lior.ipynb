{
 "cells": [
  {
   "cell_type": "code",
   "execution_count": 1,
   "id": "624ae38d",
   "metadata": {},
   "outputs": [],
   "source": [
    "#probability part 1_hebrew"
   ]
  },
  {
   "cell_type": "code",
   "execution_count": 2,
   "id": "3ea8f8e5",
   "metadata": {},
   "outputs": [],
   "source": [
    "#hebrew 1א\n",
    "#1/125 of births is non identical twins or 300/(125*300)\n",
    "#1/300 is identical twins or 125/(300*125)\n",
    "#only half of non identical twins are both the same gender\n",
    "#since we are looking for realative probabilities of identical vs non identical\n",
    "#whether its the same boy vs girl doesnt matter much(since we will divide both sides)\n",
    "# so the probability of this scenario happening would relativiely 125/37500 for identical\n",
    "#and 150/37500 for non identical \n",
    "#so the probability is 125/(125+150)=5/11"
   ]
  },
  {
   "cell_type": "code",
   "execution_count": 5,
   "id": "ee6b3236",
   "metadata": {},
   "outputs": [],
   "source": [
    "#hebrew 1ב\n",
    "#probability of picking a chocolate cookie from 1 is 0.75*0.5=3/8\n",
    "#same thing for 2 is 0.5*0.5=2/8\n",
    "#can ignore the denominator since its the same\n",
    "#3/(2+3)=3/5"
   ]
  },
  {
   "cell_type": "code",
   "execution_count": 6,
   "id": "e8c2dc8d",
   "metadata": {},
   "outputs": [],
   "source": [
    "#hebrew 2\n",
    "#probability of this scenario happening with yellow being from 1996 is 0.14*0.1\n",
    "#p(Y|1996)*p(G|1994)=0.014\n",
    "#yellow being 1994 0.2*0.2\n",
    "#p(Y|1994)*p(G|1996)=0.04\n",
    "#probabilty of this happening is 0.014+0.04=0.054\n",
    "#probability of yellow being 1994 is 0.04/0.054=40/54=20/27\n",
    "#still lower than the probability of having a stomachache"
   ]
  },
  {
   "cell_type": "code",
   "execution_count": 7,
   "id": "cc945b4a",
   "metadata": {},
   "outputs": [],
   "source": [
    "#hebrew 3א\n",
    "#probabilty of having false positive is 9999/10000*1/100=99.99/10000\n",
    "#probability of being sick is 1/10000\n",
    "#probability of being sick given being identified is 1/1+99.99=about 1/101"
   ]
  },
  {
   "cell_type": "code",
   "execution_count": 8,
   "id": "e5fe2515",
   "metadata": {},
   "outputs": [],
   "source": [
    "#hebrew 3ב\n",
    "# fixed false positive is 199/200*1/100\n",
    "#fixed being sick is 1/200\n",
    "#fixed sick given identification 1/1.99+1= about 1/3\n"
   ]
  },
  {
   "cell_type": "code",
   "execution_count": 9,
   "id": "cfeb8555",
   "metadata": {},
   "outputs": [],
   "source": [
    "#hebrew 4 the only difference in the question was covered in solution of 1\n",
    "#so its the same answer of 5/11"
   ]
  },
  {
   "cell_type": "code",
   "execution_count": 10,
   "id": "120434e2",
   "metadata": {},
   "outputs": [],
   "source": [
    "#random variable probability"
   ]
  },
  {
   "cell_type": "code",
   "execution_count": 12,
   "id": "7435cce1",
   "metadata": {},
   "outputs": [],
   "source": [
    "#1\n",
    "#given any random dice roll on the first die theres 1/3 chance of the other\n",
    "#completing it to 0 mod 3(being that it needs to be a certain number to mod 3 all of which are as likely)\n",
    "#the expected value therefor is 1/3*6-2/3*3=0"
   ]
  },
  {
   "cell_type": "code",
   "execution_count": 16,
   "id": "9a28ea75",
   "metadata": {},
   "outputs": [],
   "source": [
    "#2\n",
    "# notice drawing from the green bag is like drawing from the red bag and adding 5\n",
    "#so its equivalent to picking two random numbers between 1-5 and the sum being bigger than 7\n",
    "# there 5^2 combinations of two random numbers between 1 to 5 \n",
    "#out of them only 4,4 5,3 3,5 5,4 4,5 and 5,5 are bigger than 7(total of 6 comb)\n",
    "#4,3 3,4 5,2 2,5 (4 options) are breaking even\n",
    "#and the rest (15) are losing 6\n",
    "#(5*6+4*0 -6*15)/25=-60/25= -12/5"
   ]
  },
  {
   "cell_type": "code",
   "execution_count": 20,
   "id": "884cb5d5",
   "metadata": {},
   "outputs": [],
   "source": [
    "#3\n",
    "#the mean is 0.4* 8=3.2\n",
    "#from the internet the variance of a random variable with binomial distirbution\n",
    "#is var(x)=n*p*(1-p) where p is the probabilty of the random variable happening\n",
    "#and n is the number of tries \n",
    "#standard deviation is the square root of that\n",
    "#var(x)=8*0.4*0.6=1.92\n",
    "#std(x)=sqrt(1.92)=1.3856406461 approximately"
   ]
  },
  {
   "cell_type": "code",
   "execution_count": 21,
   "id": "d4fdd413",
   "metadata": {},
   "outputs": [],
   "source": [
    "#4 \n",
    "#we know 95 precent of data are within two standard deviations of the mean\n",
    "#so we have 0.95 prob of 22<x<30\n",
    "#by symmetry of normal distirbution around the mean we can say\n",
    "#the prob of 22<x<26= the prob of 26<x<30 so 2p= 0.95 => p=0.475  "
   ]
  },
  {
   "cell_type": "code",
   "execution_count": 23,
   "id": "604245d0",
   "metadata": {},
   "outputs": [],
   "source": [
    "#5\n",
    "#just going to asuume y is the probability density because you didnt specify \n",
    "#and didnt really teach us that as i remember\n",
    "#if it is than we need to take the area of the distirbution \n",
    "#p=0.4*2/2=4/10"
   ]
  },
  {
   "cell_type": "code",
   "execution_count": 24,
   "id": "4788fcdb",
   "metadata": {},
   "outputs": [],
   "source": [
    "#6\n",
    "#3 choose 4 is the same a 1 choose 4 which is 4 so using the formula \n",
    "#p(choosing 3 parents)=4*(0.6^3*0.4)=0.3456"
   ]
  },
  {
   "cell_type": "code",
   "execution_count": 28,
   "id": "7f58a005",
   "metadata": {},
   "outputs": [],
   "source": [
    "#7\n",
    "#notice that every positive value has a value that negates it with the same probability\n",
    "#and the same for negatives\n",
    "#so the total of the values time their probabilites sums to zero"
   ]
  },
  {
   "cell_type": "code",
   "execution_count": null,
   "id": "0e82112a",
   "metadata": {},
   "outputs": [],
   "source": []
  }
 ],
 "metadata": {
  "kernelspec": {
   "display_name": "Python 3 (ipykernel)",
   "language": "python",
   "name": "python3"
  },
  "language_info": {
   "codemirror_mode": {
    "name": "ipython",
    "version": 3
   },
   "file_extension": ".py",
   "mimetype": "text/x-python",
   "name": "python",
   "nbconvert_exporter": "python",
   "pygments_lexer": "ipython3",
   "version": "3.9.7"
  }
 },
 "nbformat": 4,
 "nbformat_minor": 5
}
