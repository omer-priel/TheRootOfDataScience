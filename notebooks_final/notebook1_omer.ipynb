{
 "cells": [
  {
   "cell_type": "code",
   "execution_count": null,
   "id": "ad18a7bf",
   "metadata": {},
   "outputs": [],
   "source": [
    "# Nootbook 1\n",
    "# Omer Priel"
   ]
  },
  {
   "cell_type": "code",
   "execution_count": 6,
   "id": "0145c6e6",
   "metadata": {},
   "outputs": [
    {
     "data": {
      "text/plain": [
       "0.29411764705882354"
      ]
     },
     "execution_count": 6,
     "metadata": {},
     "output_type": "execute_result"
    }
   ],
   "source": [
    "# Question 1 A\n",
    "# Identical twins:     1/125\n",
    "# Non-identical twins: 1/300\n",
    "\n",
    "# Answer\n",
    "# probability = (1/300) / ((1/125)+(1/300)) = 5/17\n",
    "# The probability is 5 from 17\n",
    "5/17"
   ]
  },
  {
   "cell_type": "code",
   "execution_count": 11,
   "id": "aa1286a9",
   "metadata": {},
   "outputs": [
    {
     "data": {
      "text/plain": [
       "0.6"
      ]
     },
     "execution_count": 11,
     "metadata": {},
     "output_type": "execute_result"
    }
   ],
   "source": [
    "# Question 1 B\n",
    "# 1 = tonsils\n",
    "# 2 = chocolate\n",
    "# Bowl  : 1 , 2\n",
    "# Bowl a: 10, 30\n",
    "# Bowl b: 20, 20 \n",
    "\n",
    "# Answer\n",
    "# probability to a1 = (1/2) * (1/4) \n",
    "# probability to a2 = (1/2) * (3/4) \n",
    "# probability to b1 = b2 = (1/2) * (1/2)\n",
    "# 1 = a1 + a2 + b1 + b2\n",
    "# probability = (a2) / (a2+b2) = 0.6 = 3/5\n",
    "# The probability is 3 from 5\n",
    "a1 = (1/2) * (1/4)\n",
    "a2 = (1/2) * (3/4)\n",
    "b1 = b2 = (1/2) * (2/4)\n",
    "\n",
    "(a2) / (a2+b2)"
   ]
  },
  {
   "cell_type": "code",
   "execution_count": 16,
   "id": "54a59f2c",
   "metadata": {},
   "outputs": [
    {
     "data": {
      "text/plain": [
       "0.5882352941176471"
      ]
     },
     "execution_count": 16,
     "metadata": {},
     "output_type": "execute_result"
    }
   ],
   "source": [
    "# Question 2\n",
    "# Before 1995\n",
    "# 30% Brown, 20% Yellow, 20% Red, 10% Green, 10% Orange, 10% Tan\n",
    "# After 1995\n",
    "# 24% Blue , 20% Green, 16% Orange, 14% Yellow, 13% Red, 13% Brown\n",
    "# 13% Brown, 14% Yellow, 13% Red, 20% Green, 16% Orange, 24% Blue\n",
    "# bag1, bag2\n",
    "# get Yellow from bag1 or bag2\n",
    "\n",
    "# Answer\n",
    "# Before 1995\n",
    "# 30% Brown, 20% Yellow, 20% Red, 10% Green, 10% Orange, 10% Tan\n",
    "# After 1995\n",
    "# 13% Brown, 14% Yellow, 13% Red, 20% Green, 16% Orange, 24% Blue\n",
    "\n",
    "# probability of yellow 1994 = 0.20\n",
    "# probability of yellow 1996 = 0.14\n",
    "# y = 0.2 / (0.20+0.14) = 10/17\n",
    "# The probability is 10 from 17\n",
    "10/17"
   ]
  },
  {
   "cell_type": "code",
   "execution_count": 33,
   "id": "3424267a",
   "metadata": {},
   "outputs": [],
   "source": [
    "# Question 3\n"
   ]
  }
 ],
 "metadata": {
  "kernelspec": {
   "display_name": "Python 3",
   "language": "python",
   "name": "python3"
  },
  "language_info": {
   "codemirror_mode": {
    "name": "ipython",
    "version": 3
   },
   "file_extension": ".py",
   "mimetype": "text/x-python",
   "name": "python",
   "nbconvert_exporter": "python",
   "pygments_lexer": "ipython3",
   "version": "3.8.8"
  }
 },
 "nbformat": 4,
 "nbformat_minor": 5
}
