{
 "cells": [
  {
   "cell_type": "code",
   "execution_count": null,
   "id": "ad18a7bf",
   "metadata": {},
   "outputs": [],
   "source": [
    "# Nootbook 1\n",
    "# Omer Priel"
   ]
  },
  {
   "cell_type": "code",
   "execution_count": null,
   "id": "16fe4ba3",
   "metadata": {},
   "outputs": [],
   "source": [
    "# Part A"
   ]
  },
  {
   "cell_type": "code",
   "execution_count": 12,
   "id": "0145c6e6",
   "metadata": {},
   "outputs": [
    {
     "data": {
      "text/plain": [
       "0.5454545454545454"
      ]
     },
     "execution_count": 12,
     "metadata": {},
     "output_type": "execute_result"
    }
   ],
   "source": [
    "# Question 1 A\n",
    "# Identical twins:     1/125\n",
    "# Non-identical twins: 1/300\n",
    "\n",
    "# Answer\n",
    "# Elvis has male twin\n",
    "# so, he can't be female so\n",
    "# (1/(300/2)) = 1/150\n",
    "# probability = (1/125) / ((1/125)+(1/150)) = 6/11\n",
    "# The probability is 6 from 11\n",
    "6/11"
   ]
  },
  {
   "cell_type": "code",
   "execution_count": 11,
   "id": "aa1286a9",
   "metadata": {},
   "outputs": [
    {
     "data": {
      "text/plain": [
       "0.6"
      ]
     },
     "execution_count": 11,
     "metadata": {},
     "output_type": "execute_result"
    }
   ],
   "source": [
    "# Question 1 B\n",
    "# 1 = tonsils\n",
    "# 2 = chocolate\n",
    "# Bowl  : 1 , 2\n",
    "# Bowl a: 10, 30\n",
    "# Bowl b: 20, 20 \n",
    "\n",
    "# Answer\n",
    "# probability to a1 = (1/2) * (1/4) \n",
    "# probability to a2 = (1/2) * (3/4) \n",
    "# probability to b1 = b2 = (1/2) * (1/2)\n",
    "# 1 = a1 + a2 + b1 + b2\n",
    "# probability = (a2) / (a2+b2) = 0.6 = 3/5\n",
    "# The probability is 3 from 5\n",
    "a1 = (1/2) * (1/4)\n",
    "a2 = (1/2) * (3/4)\n",
    "b1 = b2 = (1/2) * (2/4)\n",
    "\n",
    "(a2) / (a2+b2)"
   ]
  },
  {
   "cell_type": "code",
   "execution_count": 16,
   "id": "54a59f2c",
   "metadata": {},
   "outputs": [
    {
     "data": {
      "text/plain": [
       "0.5882352941176471"
      ]
     },
     "execution_count": 16,
     "metadata": {},
     "output_type": "execute_result"
    }
   ],
   "source": [
    "# Question 2\n",
    "# Before 1995\n",
    "# 30% Brown, 20% Yellow, 20% Red, 10% Green, 10% Orange, 10% Tan\n",
    "# After 1995\n",
    "# 24% Blue , 20% Green, 16% Orange, 14% Yellow, 13% Red, 13% Brown\n",
    "# 13% Brown, 14% Yellow, 13% Red, 20% Green, 16% Orange, 24% Blue\n",
    "# bag1, bag2\n",
    "# get Yellow from bag1 or bag2\n",
    "\n",
    "# Answer\n",
    "# Before 1995\n",
    "# 30% Brown, 20% Yellow, 20% Red, 10% Green, 10% Orange, 10% Tan\n",
    "# After 1995\n",
    "# 13% Brown, 14% Yellow, 13% Red, 20% Green, 16% Orange, 24% Blue\n",
    "\n",
    "# probability of yellow 1994 = 0.20\n",
    "# probability of yellow 1996 = 0.14\n",
    "# y = 0.2 / (0.20+0.14) = 10/17\n",
    "# The probability is 10 from 17\n",
    "10/17"
   ]
  },
  {
   "cell_type": "code",
   "execution_count": 6,
   "id": "3424267a",
   "metadata": {},
   "outputs": [
    {
     "data": {
      "text/plain": [
       "0.33444816053511706"
      ]
     },
     "execution_count": 6,
     "metadata": {},
     "output_type": "execute_result"
    }
   ],
   "source": [
    "# Question 3\n",
    "# 1 from 10000\n",
    "# test 99 from 100\n",
    "# 1 from 100 is false postive\n",
    "# 0 from 100 is false negative\n",
    "# you postive in test\n",
    "\n",
    "# Answer A\n",
    "# [99 , 1] postive\n",
    "# [100, 0] negative\n",
    "# you 99/100\n",
    "# p = (10**(-4)) / ((10**(-4)) + (1-10**(-4))*(0.01)) = 100/10099\n",
    "# The probability is 100 from 10099\n",
    "a = (10**(-4)) / ((10**(-4)) + (1-10**(-4))*(0.01))\n",
    "\n",
    "# Answer B\n",
    "# changed from 1/10000 t 1/200\n",
    "# p = (1/200) / ((1/200) + (1-1/200)*(0.01)) = 100/299\n",
    "# The probability now is 100 from 299\n",
    "b = (1/200) / ((1/200) + (1-1/200)*(0.01))\n",
    "b"
   ]
  },
  {
   "cell_type": "code",
   "execution_count": null,
   "id": "d6b74857",
   "metadata": {},
   "outputs": [],
   "source": [
    "# Part B"
   ]
  },
  {
   "cell_type": "code",
   "execution_count": null,
   "id": "464c58c4",
   "metadata": {},
   "outputs": [],
   "source": [
    "# Question 1\n",
    "# a+b | 3 = 6\n",
    "# else = -3\n",
    "\n",
    "# Answer\n",
    "# a+b | 3 = 12/36 = 1/3\n",
    "# else  a  = 1-1/3 = 2/3\n",
    "# In one game 1 of 3 he will get 6$ and 2 of 3 he will lose 3$\n",
    "# (1/3) * 6 - (2/3) * 3 = 0\n",
    "# In infinity games he will get zero dolars"
   ]
  },
  {
   "cell_type": "code",
   "execution_count": null,
   "id": "9e2e5a34",
   "metadata": {},
   "outputs": [],
   "source": [
    "# Question 2\n",
    "# a+b < 12 = -6$\n",
    "# a+b == 12 = 0$\n",
    "# a+b > 12 = 5$\n",
    "\n",
    "# Answer\n",
    "# a+b < 12  -> p = (5+4+3+2+1)/(5*5) = 15/25 = 3/5 = 0.6\n",
    "# a+b == 12 -> p = (1*4)/(5*5) = 4/25              = 0.16\n",
    "# a+b > 12  -> p = (3+2+1)/(5*5) = 6/25            = 0.24\n",
    "# In one game the probability is, 60% of lose 6$, 60% of even and 24% of win 5$\n",
    "# 0.6 * (-6) + 0.24 * 5 = -2.4\n",
    "# In infinity games he will lose 2.4 dolars"
   ]
  },
  {
   "cell_type": "code",
   "execution_count": null,
   "id": "d9a785b9",
   "metadata": {},
   "outputs": [],
   "source": [
    "# Question 3\n",
    "# 200 employees\n",
    "# employees male is 0.4 * 200 = 80\n",
    "# 8/200 to CEO\n",
    "\n",
    "# Answer\n",
    "# p = 0.4\n",
    "# n = 8\n",
    "# mean = 0.4*8 = 3.2\n",
    "# var(X) = n*p*(1-p) = mean*(1-0.4) = 3.2*0.6 = 1.92\n",
    "# std = 1.92 ** (0.5) = (4*(3**0.5))/5 = 0.8*(3**0.5) = 1.385 = 1.39\n",
    "# The mean is 3.2 and the std is 1.39"
   ]
  },
  {
   "cell_type": "code",
   "execution_count": null,
   "id": "fce08691",
   "metadata": {},
   "outputs": [],
   "source": [
    "# Question 4\n",
    "# mean = 26000\n",
    "# std = 2000\n",
    "# P(26000<x<30000)\n",
    "\n",
    "# Answer\n",
    "# s = std\n",
    "# x is mean + s or x is s + 2*s\n",
    "# x < mean+s = 0.341\n",
    "# x > mean+s = 0.136\n",
    "# P(26K < x < 30K) = 0.341 + 0.136 = 0.447 = 47.7%\n",
    "# The probability is 47.7%"
   ]
  },
  {
   "cell_type": "code",
   "execution_count": null,
   "id": "c728ef8f",
   "metadata": {},
   "outputs": [],
   "source": [
    "# Question 5\n",
    "# y(3) = 0.4\n",
    "# P(x>3)\n",
    "\n",
    "# Answer\n",
    "# P(x>3) = ((0.4)*2/2) / ((0.4)*5/2) = (2) / (5) = 2/5 = 0.4\n",
    "# The probability is 40%"
   ]
  },
  {
   "cell_type": "code",
   "execution_count": 10,
   "id": "e213fd46",
   "metadata": {},
   "outputs": [
    {
     "data": {
      "text/plain": [
       "0.34559999999999996"
      ]
     },
     "execution_count": 10,
     "metadata": {},
     "output_type": "execute_result"
    }
   ],
   "source": [
    "# Question 6\n",
    "# 500 employees\n",
    "# 60% has children.\n",
    "# 4 employees selected\n",
    "# what id the probability of that only 3 employees has children\n",
    "\n",
    "# Answer\n",
    "# 300 employees has children.\n",
    "# p = 0.6\n",
    "# n = 4\n",
    "\n",
    "# p of 3/4 = 4 * (0.4**1)*(0.6**3) = 216/625= 0.3456 = 34.56%\n",
    "# the probability is 216 form 625\n",
    "\n",
    "a = 0.4\n",
    "b = 0.6\n",
    "def ab(n, c):\n",
    "    return c * (a ** (4-n)) * (b ** (n))\n",
    "\n",
    "ab(0,1) + ab(1,4) + ab(2,5) + ab(3,4) + ab(4,1) # 1\n",
    "\n",
    "ab(3, 4)"
   ]
  },
  {
   "cell_type": "code",
   "execution_count": 11,
   "id": "6b07324a",
   "metadata": {},
   "outputs": [],
   "source": [
    "# Question 7\n",
    "# max p is -5 and 5\n",
    "\n",
    "# Answer\n",
    "# x expected to be close to -5 or close to 5"
   ]
  },
  {
   "cell_type": "code",
   "execution_count": null,
   "id": "8f2e9fc3",
   "metadata": {},
   "outputs": [],
   "source": []
  }
 ],
 "metadata": {
  "kernelspec": {
   "display_name": "Python 3",
   "language": "python",
   "name": "python3"
  },
  "language_info": {
   "codemirror_mode": {
    "name": "ipython",
    "version": 3
   },
   "file_extension": ".py",
   "mimetype": "text/x-python",
   "name": "python",
   "nbconvert_exporter": "python",
   "pygments_lexer": "ipython3",
   "version": "3.8.8"
  }
 },
 "nbformat": 4,
 "nbformat_minor": 5
}
